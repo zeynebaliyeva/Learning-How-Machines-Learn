{
 "cells": [
  {
   "cell_type": "markdown",
   "id": "ae9022a0-8103-409f-8346-c039b9c6e123",
   "metadata": {},
   "source": [
    "##### 1. Create variable age equal to 32 and check its type."
   ]
  },
  {
   "cell_type": "code",
   "execution_count": 1,
   "id": "62aec71d-01cd-47fa-a7cf-64051e9dac97",
   "metadata": {},
   "outputs": [
    {
     "data": {
      "text/plain": [
       "int"
      ]
     },
     "execution_count": 1,
     "metadata": {},
     "output_type": "execute_result"
    }
   ],
   "source": [
    "age = 32\n",
    "type(age)"
   ]
  },
  {
   "cell_type": "markdown",
   "id": "e4c42d66-9ee7-43f9-88e2-d44f21c76149",
   "metadata": {},
   "source": [
    "##### 2. Create variable height equal to 1.85 and check its type."
   ]
  },
  {
   "cell_type": "code",
   "execution_count": 2,
   "id": "3f2d5a75-962c-49b8-9526-5fa21ec9fe55",
   "metadata": {},
   "outputs": [
    {
     "data": {
      "text/plain": [
       "float"
      ]
     },
     "execution_count": 2,
     "metadata": {},
     "output_type": "execute_result"
    }
   ],
   "source": [
    "height = 1.85\n",
    "type(height)"
   ]
  },
  {
   "cell_type": "markdown",
   "id": "7dea6aa2-b414-4414-af1a-67bbac2c58a4",
   "metadata": {},
   "source": [
    "#### 3. Create variables name and surname. Define them as 'your_name' and 'your_surname'."
   ]
  },
  {
   "cell_type": "code",
   "execution_count": 3,
   "id": "9baf00a2-a09c-4213-a853-3174a3d5e9f3",
   "metadata": {},
   "outputs": [],
   "source": [
    "name = 'your_name'\n",
    "surname = 'your_surname'"
   ]
  },
  {
   "cell_type": "markdown",
   "id": "befc2b30-e251-49b7-a1ec-b219b691028d",
   "metadata": {},
   "source": [
    "#### 4. Sum up name and surname variables. Define as ID."
   ]
  },
  {
   "cell_type": "code",
   "execution_count": 4,
   "id": "c64f6b6d-9844-4fd5-a391-4e907ef36d41",
   "metadata": {},
   "outputs": [],
   "source": [
    "ID = name + ' ' + surname"
   ]
  },
  {
   "cell_type": "code",
   "execution_count": 5,
   "id": "0ef4622f-5590-4b5c-aa91-886a074620c8",
   "metadata": {},
   "outputs": [
    {
     "data": {
      "text/plain": [
       "'your_name your_surname'"
      ]
     },
     "execution_count": 5,
     "metadata": {},
     "output_type": "execute_result"
    }
   ],
   "source": [
    "ID"
   ]
  },
  {
   "cell_type": "markdown",
   "id": "f38decc3-82bf-4490-8bfa-851c5844a4e5",
   "metadata": {},
   "source": [
    "##### 5. Use indexing. Find last letter of 'your_name'."
   ]
  },
  {
   "cell_type": "code",
   "execution_count": 6,
   "id": "581e01a2-a022-4395-8997-348746cc4f0a",
   "metadata": {},
   "outputs": [
    {
     "data": {
      "text/plain": [
       "'e'"
      ]
     },
     "execution_count": 6,
     "metadata": {},
     "output_type": "execute_result"
    }
   ],
   "source": [
    "name[-1]"
   ]
  },
  {
   "cell_type": "markdown",
   "id": "2fcb01c4-8311-4faa-8725-ac444934372a",
   "metadata": {},
   "source": [
    "##### 6. Use slicing. Find 2nd and 3rd letters of 'your_surname'."
   ]
  },
  {
   "cell_type": "code",
   "execution_count": 9,
   "id": "cf35f3db-36cf-4d6f-9149-7936f160909a",
   "metadata": {},
   "outputs": [
    {
     "data": {
      "text/plain": [
       "'ou'"
      ]
     },
     "execution_count": 9,
     "metadata": {},
     "output_type": "execute_result"
    }
   ],
   "source": [
    "surname[1:3]"
   ]
  },
  {
   "cell_type": "markdown",
   "id": "34c25654-9b32-4038-905a-6e7011e85324",
   "metadata": {},
   "source": [
    "##### 7. Create list as new_list. Include 3 4 5 6 7 integers."
   ]
  },
  {
   "cell_type": "code",
   "execution_count": 10,
   "id": "521826cb-411a-442a-91e9-141cfb33040a",
   "metadata": {},
   "outputs": [],
   "source": [
    "new_list = [3,4,5,6,7]"
   ]
  },
  {
   "cell_type": "markdown",
   "id": "c85e87ff-9caf-46a5-87a0-51166f2bbc47",
   "metadata": {},
   "source": [
    "##### 8. Remove 5 from new_list."
   ]
  },
  {
   "cell_type": "code",
   "execution_count": 14,
   "id": "3b543ef4-d33b-4ca6-a70d-eda5be421910",
   "metadata": {},
   "outputs": [],
   "source": [
    "new_list.remove(5)"
   ]
  },
  {
   "cell_type": "code",
   "execution_count": 15,
   "id": "b236a5a2-c0c1-42b3-bd14-d3f6ee73bad0",
   "metadata": {},
   "outputs": [
    {
     "data": {
      "text/plain": [
       "[3, 4, 6, 7]"
      ]
     },
     "execution_count": 15,
     "metadata": {},
     "output_type": "execute_result"
    }
   ],
   "source": [
    "new_list"
   ]
  },
  {
   "cell_type": "markdown",
   "id": "840aa8d4-e7d3-4e01-8315-c5c5150c0acb",
   "metadata": {},
   "source": [
    "##### 9. Delete 2nd value of new_list."
   ]
  },
  {
   "cell_type": "code",
   "execution_count": 16,
   "id": "7f38ad9f-4c6a-43b8-988f-53cbcb539215",
   "metadata": {},
   "outputs": [
    {
     "data": {
      "text/plain": [
       "4"
      ]
     },
     "execution_count": 16,
     "metadata": {},
     "output_type": "execute_result"
    }
   ],
   "source": [
    "new_list.pop(1)"
   ]
  },
  {
   "cell_type": "code",
   "execution_count": 17,
   "id": "ce9f0cfe-8b7d-4270-9db4-e004757a8eec",
   "metadata": {},
   "outputs": [
    {
     "data": {
      "text/plain": [
       "[3, 6, 7]"
      ]
     },
     "execution_count": 17,
     "metadata": {},
     "output_type": "execute_result"
    }
   ],
   "source": [
    "new_list"
   ]
  },
  {
   "cell_type": "markdown",
   "id": "e64dee3c-170e-4ebd-a88c-308e3ce7f2d8",
   "metadata": {},
   "source": [
    "##### 10. Create tuple as new_tuple. Include 3 4 5 6 7 integers."
   ]
  },
  {
   "cell_type": "code",
   "execution_count": 18,
   "id": "fda7f52e-79a4-4c0e-8021-c70d323669e7",
   "metadata": {},
   "outputs": [],
   "source": [
    "new_tuple = (3,4,5,6,7)"
   ]
  },
  {
   "cell_type": "markdown",
   "id": "257ae200-6ee3-465b-b730-cb3fae811d50",
   "metadata": {},
   "source": [
    "##### 11. Change 4 in new_tuple to 8."
   ]
  },
  {
   "cell_type": "code",
   "execution_count": 24,
   "id": "a0654565-7dc5-4f43-9e5b-839fc14db982",
   "metadata": {},
   "outputs": [
    {
     "ename": "TypeError",
     "evalue": "'tuple' object does not support item assignment",
     "output_type": "error",
     "traceback": [
      "\u001b[1;31m---------------------------------------------------------------------------\u001b[0m",
      "\u001b[1;31mTypeError\u001b[0m                                 Traceback (most recent call last)",
      "Cell \u001b[1;32mIn[24], line 1\u001b[0m\n\u001b[1;32m----> 1\u001b[0m \u001b[43mnew_tuple\u001b[49m\u001b[43m[\u001b[49m\u001b[38;5;241;43m1\u001b[39;49m\u001b[43m]\u001b[49m \u001b[38;5;241m=\u001b[39m \u001b[38;5;241m8\u001b[39m\n",
      "\u001b[1;31mTypeError\u001b[0m: 'tuple' object does not support item assignment"
     ]
    }
   ],
   "source": [
    "new_tuple[1] = 8"
   ]
  },
  {
   "cell_type": "markdown",
   "id": "3486ab34-95dc-4f13-b672-ae631d53db3c",
   "metadata": {},
   "source": [
    "It is not possible to assign any values to tuples"
   ]
  },
  {
   "cell_type": "code",
   "execution_count": null,
   "id": "a04d91f5-73b0-4a14-aa45-26ae8bd39076",
   "metadata": {},
   "outputs": [],
   "source": []
  }
 ],
 "metadata": {
  "kernelspec": {
   "display_name": "Python 3 (ipykernel)",
   "language": "python",
   "name": "python3"
  },
  "language_info": {
   "codemirror_mode": {
    "name": "ipython",
    "version": 3
   },
   "file_extension": ".py",
   "mimetype": "text/x-python",
   "name": "python",
   "nbconvert_exporter": "python",
   "pygments_lexer": "ipython3",
   "version": "3.11.7"
  }
 },
 "nbformat": 4,
 "nbformat_minor": 5
}

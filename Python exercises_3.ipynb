{
 "cells": [
  {
   "cell_type": "markdown",
   "id": "b1f6f8be-b066-417d-89b4-a2a678c9f239",
   "metadata": {},
   "source": [
    "1. Create a function called \"addition_2number\" that takes two input numbers from user\n",
    "and returns sum and count of them."
   ]
  },
  {
   "cell_type": "code",
   "execution_count": 1,
   "id": "f27e0866-09f8-429e-91e5-35df8fe42451",
   "metadata": {},
   "outputs": [],
   "source": [
    "def addition_2number(num1, num2):\n",
    "    return num1+num2, 'count of numbers:2'"
   ]
  },
  {
   "cell_type": "code",
   "execution_count": 2,
   "id": "129693dc-9b88-4bd5-9f72-08a58d0afe31",
   "metadata": {},
   "outputs": [
    {
     "data": {
      "text/plain": [
       "(5, 'count of numbers:2')"
      ]
     },
     "execution_count": 2,
     "metadata": {},
     "output_type": "execute_result"
    }
   ],
   "source": [
    "addition_2number(2,3)"
   ]
  },
  {
   "cell_type": "markdown",
   "id": "1223c0ee-2147-4f65-8ad6-11c7c3c17ada",
   "metadata": {},
   "source": [
    "2. Create a function called \"addition\" that can add two or more numbers till user enters\n",
    "zero and returns answer and count of input numbers in a list."
   ]
  },
  {
   "cell_type": "markdown",
   "id": "f0616e70",
   "metadata": {},
   "source": [
    "First option"
   ]
  },
  {
   "cell_type": "code",
   "execution_count": 9,
   "id": "8494622f-d5ff-4b97-8bb6-032305d678aa",
   "metadata": {},
   "outputs": [],
   "source": [
    "def addition(*args):\n",
    "    sum=0\n",
    "    count=0\n",
    "    for num in args:\n",
    "        if num!=0:\n",
    "            sum+=num\n",
    "        else:\n",
    "            break\n",
    "    return sum, len(args)\n",
    "    "
   ]
  },
  {
   "cell_type": "code",
   "execution_count": 10,
   "id": "f0bccacd-e337-4536-8a57-513c22f19314",
   "metadata": {},
   "outputs": [
    {
     "data": {
      "text/plain": [
       "(6, 5)"
      ]
     },
     "execution_count": 10,
     "metadata": {},
     "output_type": "execute_result"
    }
   ],
   "source": [
    "addition(1,2,3,0,5)"
   ]
  },
  {
   "cell_type": "markdown",
   "id": "6d91cc2f",
   "metadata": {},
   "source": [
    "Second option"
   ]
  },
  {
   "cell_type": "code",
   "execution_count": 10,
   "id": "87be0469-7581-4bac-ba39-71670aef016c",
   "metadata": {},
   "outputs": [],
   "source": [
    "def addition2():\n",
    "    x=int(input())\n",
    "    s=0\n",
    "    count=0\n",
    "    while x!=0:\n",
    "        s+=x\n",
    "        count+=1\n",
    "        x = int(input())\n",
    "    return s, count\n",
    "    \n",
    "        "
   ]
  },
  {
   "cell_type": "code",
   "execution_count": 5,
   "id": "1e4fa223-65d8-4f84-b8af-6c66948ae7f4",
   "metadata": {},
   "outputs": [
    {
     "name": "stdout",
     "output_type": "stream",
     "text": [
      " 3\n",
      " 4\n",
      " 9\n",
      " 0\n"
     ]
    },
    {
     "data": {
      "text/plain": [
       "(16, 4)"
      ]
     },
     "execution_count": 5,
     "metadata": {},
     "output_type": "execute_result"
    }
   ],
   "source": [
    "addition2()"
   ]
  },
  {
   "cell_type": "markdown",
   "id": "7e18d123-c5c8-49da-b012-1302d8a01720",
   "metadata": {},
   "source": [
    "##### 3. Create a function called \"subtraction\" that can subtract two or more numbers till user enters zero and returns answer and countof input numbers in a list."
   ]
  },
  {
   "cell_type": "code",
   "execution_count": 21,
   "id": "e0414210-6bb0-4797-9688-1907bb2c6e35",
   "metadata": {},
   "outputs": [],
   "source": [
    "def subtraction():\n",
    "    x = int(input())\n",
    "    count=0\n",
    "    dif=x\n",
    "    while x!=0:\n",
    "        x=int(input())\n",
    "        dif = dif-x\n",
    "        count+=1\n",
    "    return dif, count"
   ]
  },
  {
   "cell_type": "code",
   "execution_count": 22,
   "id": "bc7d6541-1825-4adc-a78f-d15f7611c0a6",
   "metadata": {},
   "outputs": [
    {
     "name": "stdout",
     "output_type": "stream",
     "text": [
      " 4\n",
      " 5\n",
      " 6\n",
      " 0\n"
     ]
    },
    {
     "data": {
      "text/plain": [
       "(-7, 3)"
      ]
     },
     "execution_count": 22,
     "metadata": {},
     "output_type": "execute_result"
    }
   ],
   "source": [
    "subtraction()"
   ]
  },
  {
   "cell_type": "markdown",
   "id": "cc6171d8-ed03-4053-bbfd-0ff99edfc425",
   "metadata": {},
   "source": [
    "##### 4. Create a function called \"multiplication\" that can multiply two or more numbers till user enters zero and returns answer and count of input numbers in a list.."
   ]
  },
  {
   "cell_type": "code",
   "execution_count": 23,
   "id": "7a5fdaf7-768d-480a-96f7-5e2e4b90ae48",
   "metadata": {},
   "outputs": [],
   "source": [
    "def multiplication():\n",
    "    x=int(input())\n",
    "    result = 1\n",
    "    count = 0\n",
    "    while x!=0:\n",
    "        result*=x\n",
    "        count+=1\n",
    "        x=int(input())\n",
    "    return result, count"
   ]
  },
  {
   "cell_type": "code",
   "execution_count": 25,
   "id": "388c1711-6263-40e1-a912-eeb7b3b1c72c",
   "metadata": {},
   "outputs": [
    {
     "name": "stdout",
     "output_type": "stream",
     "text": [
      " 3\n",
      " 4\n",
      " 5\n",
      " 0\n"
     ]
    },
    {
     "data": {
      "text/plain": [
       "(60, 3)"
      ]
     },
     "execution_count": 25,
     "metadata": {},
     "output_type": "execute_result"
    }
   ],
   "source": [
    "multiplication()"
   ]
  },
  {
   "cell_type": "markdown",
   "id": "dda75200-cea3-48af-8b91-54da6e5e4670",
   "metadata": {},
   "source": [
    "##### 5. Create a function called “average” that returns mean of “addition” function."
   ]
  },
  {
   "cell_type": "code",
   "execution_count": 34,
   "id": "8777107b-2b4a-467e-ad79-e8f68cf66617",
   "metadata": {},
   "outputs": [],
   "source": [
    "def average():\n",
    "    l = addition2()\n",
    "    return l[0]/l[1]"
   ]
  },
  {
   "cell_type": "code",
   "execution_count": 35,
   "id": "b7ad46f9-e55b-4794-b6a8-7c1eccc5aa76",
   "metadata": {},
   "outputs": [
    {
     "name": "stdout",
     "output_type": "stream",
     "text": [
      " 4\n",
      " 5\n",
      " 6\n",
      " 0\n"
     ]
    },
    {
     "data": {
      "text/plain": [
       "5.0"
      ]
     },
     "execution_count": 35,
     "metadata": {},
     "output_type": "execute_result"
    }
   ],
   "source": [
    "average()"
   ]
  },
  {
   "cell_type": "markdown",
   "id": "33bd9290-ed15-4cb9-8b49-62952e04ad22",
   "metadata": {},
   "source": [
    "##### 6. Create a simple calculator that asks user to perform operations among created functions."
   ]
  },
  {
   "cell_type": "code",
   "execution_count": 11,
   "id": "329af3a6-b562-462a-b828-92f73662749e",
   "metadata": {},
   "outputs": [],
   "source": [
    "def calc():\n",
    "    print('For addition: +')\n",
    "    print('For subtraction : -')\n",
    "    print('For multiplication:*')\n",
    "    print('For stopping calculation:q')\n",
    "    \n",
    "    while True:\n",
    "        emel = input('Select the calculating type(+/-/*):')\n",
    "        if emel!='q':\n",
    "            if emel == '+':\n",
    "                print(addition2())\n",
    "            elif emel == '-':\n",
    "                print(subtraction())\n",
    "            elif emel == '*':\n",
    "                print(multiplication())\n",
    "            else:\n",
    "                print('Please, select +,- or * for calculating type')\n",
    "        else:\n",
    "            break"
   ]
  },
  {
   "cell_type": "code",
   "execution_count": 12,
   "id": "6801ab46-187b-4484-9d12-e325e0732963",
   "metadata": {},
   "outputs": [
    {
     "name": "stdout",
     "output_type": "stream",
     "text": [
      "For addition: +\n",
      "For subtraction : -\n",
      "For multiplication:*\n",
      "For stopping calculation:q\n"
     ]
    },
    {
     "name": "stdout",
     "output_type": "stream",
     "text": [
      "Select the calculating type(+/-/*): +\n",
      " 4\n",
      " 5\n",
      " 6\n",
      " 0\n"
     ]
    },
    {
     "name": "stdout",
     "output_type": "stream",
     "text": [
      "(15, 3)\n"
     ]
    },
    {
     "name": "stdout",
     "output_type": "stream",
     "text": [
      "Select the calculating type(+/-/*): q\n"
     ]
    }
   ],
   "source": [
    "calc()"
   ]
  },
  {
   "cell_type": "markdown",
   "id": "7c68f1a0-1909-4bca-815e-3b22541de13a",
   "metadata": {},
   "source": [
    "##### 7. Write a Python program to find intersection of two given arrays using lambda."
   ]
  },
  {
   "cell_type": "code",
   "execution_count": 18,
   "id": "e34bd008-5e01-4d23-90a5-b87d95452009",
   "metadata": {},
   "outputs": [
    {
     "data": {
      "text/plain": [
       "[3, 4]"
      ]
     },
     "execution_count": 18,
     "metadata": {},
     "output_type": "execute_result"
    }
   ],
   "source": [
    "intersect = lambda a,b : [x for x in a if x in b]\n",
    "intersect([1,2,3,4,5],[3,4,6,7])"
   ]
  },
  {
   "cell_type": "markdown",
   "id": "aef6628b-e831-43ce-ac44-826148e953bb",
   "metadata": {},
   "source": [
    "##### 8. Write a Python program to add two given lists using map and lambda."
   ]
  },
  {
   "cell_type": "code",
   "execution_count": 23,
   "id": "bb6c4c9a-b348-41f0-bd92-74d34ef0e589",
   "metadata": {},
   "outputs": [
    {
     "data": {
      "text/plain": [
       "[5, 9, 11, 13]"
      ]
     },
     "execution_count": 23,
     "metadata": {},
     "output_type": "execute_result"
    }
   ],
   "source": [
    "list(map(lambda x,y:x+y,l1,l2))"
   ]
  },
  {
   "cell_type": "code",
   "execution_count": 21,
   "id": "d3419c4b-ca19-4c91-b1d2-40f82689cc20",
   "metadata": {},
   "outputs": [],
   "source": [
    "l1=[1,2,3,4]\n",
    "l2=[4,7,8,9,10]"
   ]
  },
  {
   "cell_type": "markdown",
   "id": "aeae9d8e-9417-4000-8a7a-6d1579dea09b",
   "metadata": {},
   "source": [
    "##### 9. Write a Python program that stores numbers in a list which are divisible by nineteen or thirteen from a given list."
   ]
  },
  {
   "cell_type": "code",
   "execution_count": 39,
   "id": "a8c471ab-543a-46fe-8b57-1412e169da4d",
   "metadata": {},
   "outputs": [
    {
     "data": {
      "text/plain": [
       "[13, 26, 19, 0, 38]"
      ]
     },
     "execution_count": 39,
     "metadata": {},
     "output_type": "execute_result"
    }
   ],
   "source": [
    "list(filter(lambda x:x%19==0 or x%13==0,a))"
   ]
  },
  {
   "cell_type": "code",
   "execution_count": 36,
   "id": "b79b3617-2740-4c25-b3ac-63b33b0c5a3c",
   "metadata": {},
   "outputs": [],
   "source": [
    "a=[13,45,26,19,0,38]"
   ]
  }
 ],
 "metadata": {
  "kernelspec": {
   "display_name": "Python 3 (ipykernel)",
   "language": "python",
   "name": "python3"
  },
  "language_info": {
   "codemirror_mode": {
    "name": "ipython",
    "version": 3
   },
   "file_extension": ".py",
   "mimetype": "text/x-python",
   "name": "python",
   "nbconvert_exporter": "python",
   "pygments_lexer": "ipython3",
   "version": "3.11.7"
  }
 },
 "nbformat": 4,
 "nbformat_minor": 5
}

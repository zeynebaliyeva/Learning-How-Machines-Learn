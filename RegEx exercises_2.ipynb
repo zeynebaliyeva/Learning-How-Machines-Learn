{
 "cells": [
  {
   "cell_type": "code",
   "execution_count": 2,
   "id": "a854bc39-7b84-478c-8ba3-45f5f790d861",
   "metadata": {},
   "outputs": [],
   "source": [
    "import re"
   ]
  },
  {
   "cell_type": "markdown",
   "id": "2679f05f-d9f8-4b4c-a119-9d98c4432bd7",
   "metadata": {},
   "source": [
    "##### 1. Which matches a word containing vowels in it (a,ı,o,u,e,ə,i,ö,ü)."
   ]
  },
  {
   "cell_type": "code",
   "execution_count": 2,
   "id": "8717fd13-0857-4e01-b1ae-04affde2a250",
   "metadata": {},
   "outputs": [
    {
     "data": {
      "text/plain": [
       "['a', 'a']"
      ]
     },
     "execution_count": 2,
     "metadata": {},
     "output_type": "execute_result"
    }
   ],
   "source": [
    "re.findall(r'[aıoueəiöü]','Salam')"
   ]
  },
  {
   "cell_type": "markdown",
   "id": "51d915fb-5b65-4178-8dd5-8c4948108eef",
   "metadata": {},
   "source": [
    "##### 2. Which matches a word containing vowels not at the start or end of the word (a,ı,o,u,e,ə,i,ö,ü)."
   ]
  },
  {
   "cell_type": "code",
   "execution_count": 46,
   "id": "c9ad219f-1440-4a35-9fe7-fff2356602ea",
   "metadata": {},
   "outputs": [
    {
     "data": {
      "text/plain": [
       "['e', 'a', 'a', 'a', 'a']"
      ]
     },
     "execution_count": 46,
     "metadata": {},
     "output_type": "execute_result"
    }
   ],
   "source": [
    "re.findall(r'\\B[aıoueəiöü]\\B', 'Azerbaycan adam insan')"
   ]
  },
  {
   "cell_type": "markdown",
   "id": "77b9f0bd-b671-4962-83a9-d9168f4be7bf",
   "metadata": {},
   "source": [
    "##### 3. Checks for a number at the end of a given string"
   ]
  },
  {
   "cell_type": "code",
   "execution_count": 20,
   "id": "0cb5ce06-7fab-40a2-9c52-2970820b78d3",
   "metadata": {},
   "outputs": [
    {
     "data": {
      "text/plain": [
       "['8']"
      ]
     },
     "execution_count": 20,
     "metadata": {},
     "output_type": "execute_result"
    }
   ],
   "source": [
    "re.findall(r'\\d\\b', '5IBR8')"
   ]
  },
  {
   "cell_type": "markdown",
   "id": "b3220c69-e9a8-4298-9371-f59360b71e4e",
   "metadata": {},
   "source": [
    "##### 4. Which matches a word at the end of string, with optional question mark and exclamation point."
   ]
  },
  {
   "cell_type": "code",
   "execution_count": 75,
   "id": "186c33fe-7bf7-4374-9345-dcfdd6e8405b",
   "metadata": {},
   "outputs": [
    {
     "data": {
      "text/plain": [
       "['?!']"
      ]
     },
     "execution_count": 75,
     "metadata": {},
     "output_type": "execute_result"
    }
   ],
   "source": [
    "re.findall(r'\\?\\!$', '!?salam?!')"
   ]
  },
  {
   "cell_type": "markdown",
   "id": "888b6be9-8d67-4b0a-b5be-1faa9b1fe57b",
   "metadata": {},
   "source": [
    "##### 5. Replaces whitespaces with a tab and vice versa."
   ]
  },
  {
   "cell_type": "code",
   "execution_count": 82,
   "id": "d7b99020-aa4e-494d-9ae7-3dc93f83dd5b",
   "metadata": {},
   "outputs": [
    {
     "data": {
      "text/plain": [
       "'my    name    is'"
      ]
     },
     "execution_count": 82,
     "metadata": {},
     "output_type": "execute_result"
    }
   ],
   "source": [
    "re.sub(r'\\s+','    ', 'my name    is')"
   ]
  },
  {
   "cell_type": "code",
   "execution_count": 83,
   "id": "d30cabb0-4f6e-4950-9244-0fdfc3fc292b",
   "metadata": {},
   "outputs": [
    {
     "data": {
      "text/plain": [
       "'my name is'"
      ]
     },
     "execution_count": 83,
     "metadata": {},
     "output_type": "execute_result"
    }
   ],
   "source": [
    "re.sub(r'    ', ' ', 'my    name    is')"
   ]
  },
  {
   "cell_type": "markdown",
   "id": "1c6b5b4a-3823-4267-9eb2-f6ef0c1c5117",
   "metadata": {},
   "source": [
    "##### 6. Finds all words starting with 'ə' or 'ü' in a given string."
   ]
  },
  {
   "cell_type": "code",
   "execution_count": 128,
   "id": "73298271-9d29-4009-b793-a7a558cece52",
   "metadata": {},
   "outputs": [
    {
     "data": {
      "text/plain": [
       "['ələk', 'ürək']"
      ]
     },
     "execution_count": 128,
     "metadata": {},
     "output_type": "execute_result"
    }
   ],
   "source": [
    "re.findall(r'\\b[əü]\\w+', 'ələk ürək eynək')"
   ]
  },
  {
   "cell_type": "markdown",
   "id": "8ea8543a-5097-459b-805a-a78fff6dab64",
   "metadata": {},
   "source": [
    "##### 7. Removes all whitespaces from a string."
   ]
  },
  {
   "cell_type": "code",
   "execution_count": 131,
   "id": "b746b672-62f0-4cb7-9703-d7cdabac8de4",
   "metadata": {},
   "outputs": [
    {
     "data": {
      "text/plain": [
       "'salam'"
      ]
     },
     "execution_count": 131,
     "metadata": {},
     "output_type": "execute_result"
    }
   ],
   "source": [
    "re.sub(r' ', '', 's a l a m')"
   ]
  },
  {
   "cell_type": "markdown",
   "id": "b3ef28a5-8626-4837-8507-23115cbb1df5",
   "metadata": {},
   "source": [
    "##### 8. Finds all words which have more than 4 characters in a string."
   ]
  },
  {
   "cell_type": "code",
   "execution_count": 146,
   "id": "3126fa68-2012-448f-898c-121743f64d4e",
   "metadata": {},
   "outputs": [
    {
     "data": {
      "text/plain": [
       "['name', 'Zeyneb']"
      ]
     },
     "execution_count": 146,
     "metadata": {},
     "output_type": "execute_result"
    }
   ],
   "source": [
    "re.findall(r'\\b\\w{4,}\\b', 'my name is Zeyneb')"
   ]
  },
  {
   "cell_type": "markdown",
   "id": "f759fbf5-5199-4d60-af11-3544f6834724",
   "metadata": {},
   "source": [
    "##### 9. Inserts spaces between words starting with capital letters. Original string: PythonProgrammingLanguage Expected output: Python Programming Language"
   ]
  },
  {
   "cell_type": "code",
   "execution_count": 10,
   "id": "e3cba1ae-d4e2-4c30-9491-ed608359767f",
   "metadata": {},
   "outputs": [],
   "source": [
    "str = re.findall(r'[A-Z][a-z]+','PythonProgrammingLanguage')"
   ]
  },
  {
   "cell_type": "code",
   "execution_count": 11,
   "id": "7f5027cd-a479-4f2e-8c03-2d14229b6b70",
   "metadata": {},
   "outputs": [
    {
     "data": {
      "text/plain": [
       "'Python Programming Language'"
      ]
     },
     "execution_count": 11,
     "metadata": {},
     "output_type": "execute_result"
    }
   ],
   "source": [
    "' '.join(str)"
   ]
  },
  {
   "cell_type": "code",
   "execution_count": 40,
   "id": "eb95d95c-6449-432c-ba30-198ccbff62e9",
   "metadata": {},
   "outputs": [
    {
     "data": {
      "text/plain": [
       "'Python Programming Language'"
      ]
     },
     "execution_count": 40,
     "metadata": {},
     "output_type": "execute_result"
    }
   ],
   "source": [
    "re.sub(r'([a-z])([A-Z])',r'\\1 \\2','PythonProgrammingLanguage')"
   ]
  }
 ],
 "metadata": {
  "kernelspec": {
   "display_name": "Python 3 (ipykernel)",
   "language": "python",
   "name": "python3"
  },
  "language_info": {
   "codemirror_mode": {
    "name": "ipython",
    "version": 3
   },
   "file_extension": ".py",
   "mimetype": "text/x-python",
   "name": "python",
   "nbconvert_exporter": "python",
   "pygments_lexer": "ipython3",
   "version": "3.11.7"
  }
 },
 "nbformat": 4,
 "nbformat_minor": 5
}

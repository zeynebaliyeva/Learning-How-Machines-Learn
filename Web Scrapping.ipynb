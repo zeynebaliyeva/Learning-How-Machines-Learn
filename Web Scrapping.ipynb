{
 "cells": [
  {
   "cell_type": "code",
   "execution_count": 266,
   "id": "8bf94f0f-d51b-4ec2-a859-03bed561c314",
   "metadata": {},
   "outputs": [],
   "source": [
    "import requests\n",
    "from bs4 import BeautifulSoup\n",
    "import pandas as pd\n",
    "import regex as re "
   ]
  },
  {
   "cell_type": "code",
   "execution_count": 6,
   "id": "92274c59-d4ea-456c-88c4-e4c743eb6ba7",
   "metadata": {},
   "outputs": [],
   "source": [
    "url = 'https://www.reddit.com/search/?q=oppenheimer&type=link&cId=8ae573e8-07cc-45cb-a6c9-7e84325a3579&iId=8690b247-7602-4676-81a0-fa344e45481b'"
   ]
  },
  {
   "cell_type": "code",
   "execution_count": 10,
   "id": "1b00f33d-d978-4fba-a825-69325883411a",
   "metadata": {},
   "outputs": [],
   "source": [
    "source = requests.get(url)"
   ]
  },
  {
   "cell_type": "code",
   "execution_count": 16,
   "id": "2e67dc1d-0f03-4325-8513-508004a2405f",
   "metadata": {},
   "outputs": [],
   "source": [
    "sr = source.text"
   ]
  },
  {
   "cell_type": "code",
   "execution_count": 20,
   "id": "45267705-7ed6-4a54-a191-1819c46cd5e6",
   "metadata": {},
   "outputs": [],
   "source": [
    "soup = BeautifulSoup(sr,'html.parser')"
   ]
  },
  {
   "cell_type": "code",
   "execution_count": 46,
   "id": "f14d64c2-55ff-4123-aaa2-db29963f9551",
   "metadata": {},
   "outputs": [
    {
     "data": {
      "text/plain": [
       "'\\nOfficial Discussion - Oppenheimer [SPOILERS]\\n'"
      ]
     },
     "execution_count": 46,
     "metadata": {},
     "output_type": "execute_result"
    }
   ],
   "source": [
    "soup.find_all('a', {'data-testid':'post-title'})[0].text"
   ]
  },
  {
   "cell_type": "code",
   "execution_count": 426,
   "id": "b27d4736-d8a1-4b31-9e2c-322fe860bb0b",
   "metadata": {},
   "outputs": [],
   "source": [
    "title_list=[]\n",
    "for i in soup.find_all('a', {'data-testid':'post-title'}):\n",
    "    title = i.text.strip()\n",
    "    title_list.append(title)\n",
    "data = {'title':title_list}"
   ]
  },
  {
   "cell_type": "code",
   "execution_count": 428,
   "id": "21ec723f-2425-4724-8732-ccd75dec2d10",
   "metadata": {},
   "outputs": [],
   "source": [
    "link_list=[]\n",
    "for i in soup.find_all('a',{'data-testid':'post-title'}):\n",
    "    link_list.append('https://www.reddit.com/'+i.get('href'))\n",
    "data['link'] = link_list"
   ]
  },
  {
   "cell_type": "code",
   "execution_count": 430,
   "id": "e0c38c66-9a7c-4f2f-b3ed-7b649e82adca",
   "metadata": {},
   "outputs": [],
   "source": [
    "votes_list=[]\n",
    "for i in soup.find_all('div', {'class':'text-neutral-content-weak text-12'}):\n",
    "    votes_list.append(i.find('faceplate-number').get('number'))\n",
    "data['votes'] = votes_list"
   ]
  },
  {
   "cell_type": "code",
   "execution_count": 432,
   "id": "f937c955-2ee6-450d-85f7-5bc58dff0f17",
   "metadata": {},
   "outputs": [],
   "source": [
    "date_list=[]\n",
    "time_list=[]\n",
    "for i in soup.find_all('div',{'class':'flex items-center mb-xs relative max-w-full overflow-hidden whitespace-nowrap'}):\n",
    "    date = i.find('faceplate-timeago').get('ts')\n",
    "    clear_date=re.findall('(.+)T(\\d{2}:\\d{2}:\\d{2})',date)[0][0]\n",
    "    clear_time = re.findall('(.+)T(\\d{2}:\\d{2}:\\d{2})',a)[0][1]\n",
    "    date_list.append(clear_date)\n",
    "    time_list.append(clear_time)\n",
    "    date = ''\n",
    "    clear_date = ''\n",
    "    clear_time = ''\n",
    "data['date'] = date_list    \n",
    "data['time'] = time_list"
   ]
  },
  {
   "cell_type": "code",
   "execution_count": 268,
   "id": "16a18f74-c352-4aad-9c58-504831fb0f13",
   "metadata": {},
   "outputs": [],
   "source": [
    "a = soup.find_all('div',{'class':'flex items-center mb-xs relative max-w-full overflow-hidden whitespace-nowrap'})[0].find('faceplate-timeago').get('ts')"
   ]
  },
  {
   "cell_type": "code",
   "execution_count": 300,
   "id": "5cf0224c-c8f5-4f74-80fb-d9f683bc872d",
   "metadata": {},
   "outputs": [
    {
     "data": {
      "text/plain": [
       "['2023-07-21']"
      ]
     },
     "execution_count": 300,
     "metadata": {},
     "output_type": "execute_result"
    }
   ],
   "source": [
    "re.findall('([0-9-]+)[A-z]\\B',a)"
   ]
  },
  {
   "cell_type": "code",
   "execution_count": 422,
   "id": "546a0e00-64b7-4169-8866-1cf2a8a173e9",
   "metadata": {},
   "outputs": [
    {
     "data": {
      "text/plain": [
       "'2023-07-21'"
      ]
     },
     "execution_count": 422,
     "metadata": {},
     "output_type": "execute_result"
    }
   ],
   "source": [
    "re.findall('(.+)T(\\d{2}:\\d{2}:\\d{2})',a)[0][0]"
   ]
  },
  {
   "cell_type": "code",
   "execution_count": 406,
   "id": "5e6be4c9-dc9c-45c6-9145-18da7abaf92d",
   "metadata": {},
   "outputs": [
    {
     "data": {
      "text/plain": [
       "'2023-07-21T02:07:53.239000+0000'"
      ]
     },
     "execution_count": 406,
     "metadata": {},
     "output_type": "execute_result"
    }
   ],
   "source": [
    "a"
   ]
  },
  {
   "cell_type": "code",
   "execution_count": 438,
   "id": "9072b481-09b9-449b-9fb5-241db1bc7394",
   "metadata": {},
   "outputs": [],
   "source": [
    "df = pd.DataFrame(data)"
   ]
  },
  {
   "cell_type": "code",
   "execution_count": 440,
   "id": "e8208796-6730-45f5-a454-667ad18cbe17",
   "metadata": {},
   "outputs": [
    {
     "data": {
      "text/html": [
       "<div>\n",
       "<style scoped>\n",
       "    .dataframe tbody tr th:only-of-type {\n",
       "        vertical-align: middle;\n",
       "    }\n",
       "\n",
       "    .dataframe tbody tr th {\n",
       "        vertical-align: top;\n",
       "    }\n",
       "\n",
       "    .dataframe thead th {\n",
       "        text-align: right;\n",
       "    }\n",
       "</style>\n",
       "<table border=\"1\" class=\"dataframe\">\n",
       "  <thead>\n",
       "    <tr style=\"text-align: right;\">\n",
       "      <th></th>\n",
       "      <th>title</th>\n",
       "      <th>link</th>\n",
       "      <th>votes</th>\n",
       "      <th>date</th>\n",
       "      <th>time</th>\n",
       "    </tr>\n",
       "  </thead>\n",
       "  <tbody>\n",
       "    <tr>\n",
       "      <th>0</th>\n",
       "      <td>Official Discussion - Oppenheimer [SPOILERS]</td>\n",
       "      <td>https://www.reddit.com//r/movies/comments/155a...</td>\n",
       "      <td>6134</td>\n",
       "      <td>2023-07-21</td>\n",
       "      <td>02:07:53</td>\n",
       "    </tr>\n",
       "    <tr>\n",
       "      <th>1</th>\n",
       "      <td>I just rewatched Oppenheimer and was punched i...</td>\n",
       "      <td>https://www.reddit.com//r/TrueFilm/comments/1a...</td>\n",
       "      <td>1706</td>\n",
       "      <td>2024-02-02</td>\n",
       "      <td>02:07:53</td>\n",
       "    </tr>\n",
       "    <tr>\n",
       "      <th>2</th>\n",
       "      <td>Real Footage of Robert Oppenheimer testing the...</td>\n",
       "      <td>https://www.reddit.com//r/BeAmazed/comments/15...</td>\n",
       "      <td>53401</td>\n",
       "      <td>2023-07-30</td>\n",
       "      <td>02:07:53</td>\n",
       "    </tr>\n",
       "    <tr>\n",
       "      <th>3</th>\n",
       "      <td>Did Oppenheimer contribute any science to his ...</td>\n",
       "      <td>https://www.reddit.com//r/AskHistorians/commen...</td>\n",
       "      <td>469</td>\n",
       "      <td>2024-05-07</td>\n",
       "      <td>02:07:53</td>\n",
       "    </tr>\n",
       "    <tr>\n",
       "      <th>4</th>\n",
       "      <td>Japan finally screens 'Oppenheimer', with trig...</td>\n",
       "      <td>https://www.reddit.com//r/movies/comments/1bqo...</td>\n",
       "      <td>30066</td>\n",
       "      <td>2024-03-29</td>\n",
       "      <td>02:07:53</td>\n",
       "    </tr>\n",
       "    <tr>\n",
       "      <th>5</th>\n",
       "      <td>'Oppenheimer' finally premieres in Japan to mi...</td>\n",
       "      <td>https://www.reddit.com//r/OppenheimerMovie/com...</td>\n",
       "      <td>1564</td>\n",
       "      <td>2024-03-29</td>\n",
       "      <td>02:07:53</td>\n",
       "    </tr>\n",
       "    <tr>\n",
       "      <th>6</th>\n",
       "      <td>Finally saw Oppenheimer and I feel like it's g...</td>\n",
       "      <td>https://www.reddit.com//r/WitchesVsPatriarchy/...</td>\n",
       "      <td>1662</td>\n",
       "      <td>2024-02-17</td>\n",
       "      <td>02:07:53</td>\n",
       "    </tr>\n",
       "    <tr>\n",
       "      <th>7</th>\n",
       "      <td>Oppenheimer: Be Honest</td>\n",
       "      <td>https://www.reddit.com//r/moviecritic/comments...</td>\n",
       "      <td>205</td>\n",
       "      <td>2024-05-09</td>\n",
       "      <td>02:07:53</td>\n",
       "    </tr>\n",
       "    <tr>\n",
       "      <th>8</th>\n",
       "      <td>The film Oppenheimer implies that Oppenheimer'...</td>\n",
       "      <td>https://www.reddit.com//r/AskHistorians/commen...</td>\n",
       "      <td>960</td>\n",
       "      <td>2024-04-05</td>\n",
       "      <td>02:07:53</td>\n",
       "    </tr>\n",
       "    <tr>\n",
       "      <th>9</th>\n",
       "      <td>Anyone else think Oppenheimer is completely ov...</td>\n",
       "      <td>https://www.reddit.com//r/FIlm/comments/1bgmbv...</td>\n",
       "      <td>639</td>\n",
       "      <td>2024-03-17</td>\n",
       "      <td>02:07:53</td>\n",
       "    </tr>\n",
       "    <tr>\n",
       "      <th>10</th>\n",
       "      <td>I finally watched Oppenheimer…</td>\n",
       "      <td>https://www.reddit.com//r/movies/comments/1901...</td>\n",
       "      <td>0</td>\n",
       "      <td>2024-01-06</td>\n",
       "      <td>02:07:53</td>\n",
       "    </tr>\n",
       "    <tr>\n",
       "      <th>11</th>\n",
       "      <td>Oppenheimer movie timeline [OC]</td>\n",
       "      <td>https://www.reddit.com//r/dataisbeautiful/comm...</td>\n",
       "      <td>2231</td>\n",
       "      <td>2023-12-20</td>\n",
       "      <td>02:07:53</td>\n",
       "    </tr>\n",
       "    <tr>\n",
       "      <th>12</th>\n",
       "      <td>In Oppenheimer (2023) the prop guy was probabl...</td>\n",
       "      <td>https://www.reddit.com//r/shittymoviedetails/c...</td>\n",
       "      <td>39027</td>\n",
       "      <td>2024-08-20</td>\n",
       "      <td>02:07:53</td>\n",
       "    </tr>\n",
       "    <tr>\n",
       "      <th>13</th>\n",
       "      <td>Oppenheimer is seriously flawed and is no wher...</td>\n",
       "      <td>https://www.reddit.com//r/movies/comments/1bhq...</td>\n",
       "      <td>0</td>\n",
       "      <td>2024-03-18</td>\n",
       "      <td>02:07:53</td>\n",
       "    </tr>\n",
       "    <tr>\n",
       "      <th>14</th>\n",
       "      <td>'Oppenheimer' wins the Best Picture Oscar at 9...</td>\n",
       "      <td>https://www.reddit.com//r/movies/comments/1bbs...</td>\n",
       "      <td>28569</td>\n",
       "      <td>2024-03-11</td>\n",
       "      <td>02:07:53</td>\n",
       "    </tr>\n",
       "    <tr>\n",
       "      <th>15</th>\n",
       "      <td>In Oppenheimer (2023), the lamp on the desk ch...</td>\n",
       "      <td>https://www.reddit.com//r/MovieDetails/comment...</td>\n",
       "      <td>3460</td>\n",
       "      <td>2024-01-24</td>\n",
       "      <td>02:07:53</td>\n",
       "    </tr>\n",
       "    <tr>\n",
       "      <th>16</th>\n",
       "      <td>First Image of Tilda Swinton in Joshua Oppenhe...</td>\n",
       "      <td>https://www.reddit.com//r/movies/comments/1e9h...</td>\n",
       "      <td>9509</td>\n",
       "      <td>2024-07-22</td>\n",
       "      <td>02:07:53</td>\n",
       "    </tr>\n",
       "    <tr>\n",
       "      <th>17</th>\n",
       "      <td>\"Why does it focus so much on Oppenheimer???\"</td>\n",
       "      <td>https://www.reddit.com//r/moviescirclejerk/com...</td>\n",
       "      <td>1439</td>\n",
       "      <td>2024-02-17</td>\n",
       "      <td>02:07:53</td>\n",
       "    </tr>\n",
       "    <tr>\n",
       "      <th>18</th>\n",
       "      <td>Went to Oppenheimer today</td>\n",
       "      <td>https://www.reddit.com//r/mildlyinfuriating/co...</td>\n",
       "      <td>39413</td>\n",
       "      <td>2023-07-25</td>\n",
       "      <td>02:07:53</td>\n",
       "    </tr>\n",
       "    <tr>\n",
       "      <th>19</th>\n",
       "      <td>PROBLEMS WITH NOLAN'S OPPENHEIMER (SPOILERS)</td>\n",
       "      <td>https://www.reddit.com//r/TrueFilm/comments/15...</td>\n",
       "      <td>693</td>\n",
       "      <td>2023-07-22</td>\n",
       "      <td>02:07:53</td>\n",
       "    </tr>\n",
       "    <tr>\n",
       "      <th>20</th>\n",
       "      <td>Oppenheimer gets surprising R rating</td>\n",
       "      <td>https://www.reddit.com//r/movies/comments/13xq...</td>\n",
       "      <td>36507</td>\n",
       "      <td>2023-06-01</td>\n",
       "      <td>02:07:53</td>\n",
       "    </tr>\n",
       "    <tr>\n",
       "      <th>21</th>\n",
       "      <td>What were Oppenheimer's \"reasons\"?</td>\n",
       "      <td>https://www.reddit.com//r/TrueFilm/comments/15...</td>\n",
       "      <td>226</td>\n",
       "      <td>2023-08-02</td>\n",
       "      <td>02:07:53</td>\n",
       "    </tr>\n",
       "    <tr>\n",
       "      <th>22</th>\n",
       "      <td>You ever think the guy who made this in 2015 f...</td>\n",
       "      <td>https://www.reddit.com//r/KendrickLamar/commen...</td>\n",
       "      <td>8081</td>\n",
       "      <td>2024-05-27</td>\n",
       "      <td>02:07:53</td>\n",
       "    </tr>\n",
       "    <tr>\n",
       "      <th>23</th>\n",
       "      <td>Oppenheimer was nice but Memento was 23 years ...</td>\n",
       "      <td>https://www.reddit.com//r/TrueFilm/comments/15...</td>\n",
       "      <td>767</td>\n",
       "      <td>2023-07-28</td>\n",
       "      <td>02:07:53</td>\n",
       "    </tr>\n",
       "    <tr>\n",
       "      <th>24</th>\n",
       "      <td>This is the 11-mile long IMAX film print of Ch...</td>\n",
       "      <td>https://www.reddit.com//r/Damnthatsinteresting...</td>\n",
       "      <td>49218</td>\n",
       "      <td>2023-07-08</td>\n",
       "      <td>02:07:53</td>\n",
       "    </tr>\n",
       "  </tbody>\n",
       "</table>\n",
       "</div>"
      ],
      "text/plain": [
       "                                                title  \\\n",
       "0        Official Discussion - Oppenheimer [SPOILERS]   \n",
       "1   I just rewatched Oppenheimer and was punched i...   \n",
       "2   Real Footage of Robert Oppenheimer testing the...   \n",
       "3   Did Oppenheimer contribute any science to his ...   \n",
       "4   Japan finally screens 'Oppenheimer', with trig...   \n",
       "5   'Oppenheimer' finally premieres in Japan to mi...   \n",
       "6   Finally saw Oppenheimer and I feel like it's g...   \n",
       "7                              Oppenheimer: Be Honest   \n",
       "8   The film Oppenheimer implies that Oppenheimer'...   \n",
       "9   Anyone else think Oppenheimer is completely ov...   \n",
       "10                     I finally watched Oppenheimer…   \n",
       "11                    Oppenheimer movie timeline [OC]   \n",
       "12  In Oppenheimer (2023) the prop guy was probabl...   \n",
       "13  Oppenheimer is seriously flawed and is no wher...   \n",
       "14  'Oppenheimer' wins the Best Picture Oscar at 9...   \n",
       "15  In Oppenheimer (2023), the lamp on the desk ch...   \n",
       "16  First Image of Tilda Swinton in Joshua Oppenhe...   \n",
       "17      \"Why does it focus so much on Oppenheimer???\"   \n",
       "18                          Went to Oppenheimer today   \n",
       "19       PROBLEMS WITH NOLAN'S OPPENHEIMER (SPOILERS)   \n",
       "20               Oppenheimer gets surprising R rating   \n",
       "21                 What were Oppenheimer's \"reasons\"?   \n",
       "22  You ever think the guy who made this in 2015 f...   \n",
       "23  Oppenheimer was nice but Memento was 23 years ...   \n",
       "24  This is the 11-mile long IMAX film print of Ch...   \n",
       "\n",
       "                                                 link  votes        date  \\\n",
       "0   https://www.reddit.com//r/movies/comments/155a...   6134  2023-07-21   \n",
       "1   https://www.reddit.com//r/TrueFilm/comments/1a...   1706  2024-02-02   \n",
       "2   https://www.reddit.com//r/BeAmazed/comments/15...  53401  2023-07-30   \n",
       "3   https://www.reddit.com//r/AskHistorians/commen...    469  2024-05-07   \n",
       "4   https://www.reddit.com//r/movies/comments/1bqo...  30066  2024-03-29   \n",
       "5   https://www.reddit.com//r/OppenheimerMovie/com...   1564  2024-03-29   \n",
       "6   https://www.reddit.com//r/WitchesVsPatriarchy/...   1662  2024-02-17   \n",
       "7   https://www.reddit.com//r/moviecritic/comments...    205  2024-05-09   \n",
       "8   https://www.reddit.com//r/AskHistorians/commen...    960  2024-04-05   \n",
       "9   https://www.reddit.com//r/FIlm/comments/1bgmbv...    639  2024-03-17   \n",
       "10  https://www.reddit.com//r/movies/comments/1901...      0  2024-01-06   \n",
       "11  https://www.reddit.com//r/dataisbeautiful/comm...   2231  2023-12-20   \n",
       "12  https://www.reddit.com//r/shittymoviedetails/c...  39027  2024-08-20   \n",
       "13  https://www.reddit.com//r/movies/comments/1bhq...      0  2024-03-18   \n",
       "14  https://www.reddit.com//r/movies/comments/1bbs...  28569  2024-03-11   \n",
       "15  https://www.reddit.com//r/MovieDetails/comment...   3460  2024-01-24   \n",
       "16  https://www.reddit.com//r/movies/comments/1e9h...   9509  2024-07-22   \n",
       "17  https://www.reddit.com//r/moviescirclejerk/com...   1439  2024-02-17   \n",
       "18  https://www.reddit.com//r/mildlyinfuriating/co...  39413  2023-07-25   \n",
       "19  https://www.reddit.com//r/TrueFilm/comments/15...    693  2023-07-22   \n",
       "20  https://www.reddit.com//r/movies/comments/13xq...  36507  2023-06-01   \n",
       "21  https://www.reddit.com//r/TrueFilm/comments/15...    226  2023-08-02   \n",
       "22  https://www.reddit.com//r/KendrickLamar/commen...   8081  2024-05-27   \n",
       "23  https://www.reddit.com//r/TrueFilm/comments/15...    767  2023-07-28   \n",
       "24  https://www.reddit.com//r/Damnthatsinteresting...  49218  2023-07-08   \n",
       "\n",
       "        time  \n",
       "0   02:07:53  \n",
       "1   02:07:53  \n",
       "2   02:07:53  \n",
       "3   02:07:53  \n",
       "4   02:07:53  \n",
       "5   02:07:53  \n",
       "6   02:07:53  \n",
       "7   02:07:53  \n",
       "8   02:07:53  \n",
       "9   02:07:53  \n",
       "10  02:07:53  \n",
       "11  02:07:53  \n",
       "12  02:07:53  \n",
       "13  02:07:53  \n",
       "14  02:07:53  \n",
       "15  02:07:53  \n",
       "16  02:07:53  \n",
       "17  02:07:53  \n",
       "18  02:07:53  \n",
       "19  02:07:53  \n",
       "20  02:07:53  \n",
       "21  02:07:53  \n",
       "22  02:07:53  \n",
       "23  02:07:53  \n",
       "24  02:07:53  "
      ]
     },
     "execution_count": 440,
     "metadata": {},
     "output_type": "execute_result"
    }
   ],
   "source": [
    "df"
   ]
  }
 ],
 "metadata": {
  "kernelspec": {
   "display_name": "Python 3 (ipykernel)",
   "language": "python",
   "name": "python3"
  },
  "language_info": {
   "codemirror_mode": {
    "name": "ipython",
    "version": 3
   },
   "file_extension": ".py",
   "mimetype": "text/x-python",
   "name": "python",
   "nbconvert_exporter": "python",
   "pygments_lexer": "ipython3",
   "version": "3.11.7"
  }
 },
 "nbformat": 4,
 "nbformat_minor": 5
}

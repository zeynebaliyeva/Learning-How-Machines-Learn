{
 "cells": [
  {
   "cell_type": "markdown",
   "id": "5f371f31-c839-4c45-8827-ad0f45448393",
   "metadata": {},
   "source": [
    "##### 1. Create Car Class that has 3 class attributes: year, mpg and speed."
   ]
  },
  {
   "cell_type": "code",
   "execution_count": 2,
   "id": "93d31ce3-ef12-4c27-a405-0baa77749087",
   "metadata": {},
   "outputs": [],
   "source": [
    "class Car:\n",
    "    year=1995\n",
    "    mpg = 23\n",
    "    speed = 130"
   ]
  },
  {
   "cell_type": "code",
   "execution_count": 6,
   "id": "c5785636-6fa9-4fef-b2df-6bc1a2889b5f",
   "metadata": {},
   "outputs": [
    {
     "name": "stdout",
     "output_type": "stream",
     "text": [
      "1995\n",
      "1995\n"
     ]
    }
   ],
   "source": [
    "a = Car()\n",
    "b = Car()\n",
    "print(a.year)\n",
    "print(b.year)"
   ]
  },
  {
   "cell_type": "markdown",
   "id": "444c836a-1f17-4049-8a2b-fd29b992dcad",
   "metadata": {},
   "source": [
    "##### 2. Create 2 methods for the Car class:\n",
    "- Accelerate and break where the speed of the car changes when this methods are called."
   ]
  },
  {
   "cell_type": "code",
   "execution_count": 43,
   "id": "53e78883-fdfa-4ad6-90c8-0314c2cff5d2",
   "metadata": {},
   "outputs": [],
   "source": [
    "class Car:\n",
    "    def __init__(self,mpg,speed,year):\n",
    "        self.mpg = mpg\n",
    "        self.speed = speed\n",
    "        self.year = year\n",
    "    def accelerate(self,spd):\n",
    "        self.speed+=spd\n",
    "        return self.speed\n",
    "\n",
    "    def break_(self,spd):\n",
    "        self.speed-=spd\n",
    "        return self.speed\n",
    "        "
   ]
  },
  {
   "cell_type": "code",
   "execution_count": 45,
   "id": "82fe0618-0257-4792-90e0-a7fe78b248ce",
   "metadata": {},
   "outputs": [
    {
     "data": {
      "text/plain": [
       "140"
      ]
     },
     "execution_count": 45,
     "metadata": {},
     "output_type": "execute_result"
    }
   ],
   "source": [
    "c = Car(40,120,1994)\n",
    "c.accelerate(20)"
   ]
  },
  {
   "cell_type": "code",
   "execution_count": 47,
   "id": "2342e384-da99-4777-884f-26cb64b09248",
   "metadata": {},
   "outputs": [
    {
     "data": {
      "text/plain": [
       "110"
      ]
     },
     "execution_count": 47,
     "metadata": {},
     "output_type": "execute_result"
    }
   ],
   "source": [
    "c.break_(30)"
   ]
  },
  {
   "cell_type": "markdown",
   "id": "e417efd3-f4e8-4697-923a-dac503855f93",
   "metadata": {},
   "source": [
    "##### 3. Change all class attributes to instance attributes."
   ]
  },
  {
   "cell_type": "code",
   "execution_count": 28,
   "id": "1b9127d1-3b04-48eb-bc19-d892400151fc",
   "metadata": {},
   "outputs": [],
   "source": [
    "class Car:\n",
    "    def __init__(self,mpg,speed,year):\n",
    "        self.mpg = mpg\n",
    "        self.speed = speed\n",
    "        self.year = year"
   ]
  },
  {
   "cell_type": "markdown",
   "id": "e118e483-bd2a-4c9d-a28d-3f1d190079ac",
   "metadata": {},
   "source": [
    "##### 4. Create a class vehicle and create inheritance between car and vehicle."
   ]
  },
  {
   "cell_type": "code",
   "execution_count": 31,
   "id": "7316f122-f765-4a8b-ad10-daa20d279776",
   "metadata": {},
   "outputs": [],
   "source": [
    "class Vehicle:\n",
    "    def __init__(self,year,speed,mpg):\n",
    "        self.year=year\n",
    "        self.speed=speed\n",
    "        self.mpg=mpg\n",
    "\n",
    "class Car(Vehicle):\n",
    "    def __init__(self,year,speed,mpg):\n",
    "        super().__init__(year,speed,mpg)"
   ]
  },
  {
   "cell_type": "markdown",
   "id": "12275ee8-4865-4acc-be27-a4dee88285f5",
   "metadata": {},
   "source": [
    "##### 5. Create a new class bus which has the same methods as car and inherits from Vehicle."
   ]
  },
  {
   "cell_type": "code",
   "execution_count": 49,
   "id": "383d6022-c529-444c-abdb-d79263cd882b",
   "metadata": {},
   "outputs": [],
   "source": [
    "class Vehicle:\n",
    "    def __init__(self,year,speed,mpg):\n",
    "        self.year=year\n",
    "        self.speed=speed\n",
    "        self.mpg=mpg\n",
    "\n",
    "class Car(Vehicle):\n",
    "    def __init__(self,year,speed,mpg):\n",
    "        super().__init__(year,speed,mpg)\n",
    "    def accelerate(self,spd):\n",
    "        self.speed+=spd\n",
    "        return self.speed\n",
    "\n",
    "    def break_(self,spd):\n",
    "        self.speed-=spd\n",
    "        return self.speed\n",
    "        \n",
    "\n",
    "class Bus(Vehicle):\n",
    "    def __init__(self,year,speed,mpg):\n",
    "        super().__init__(year,speed,mpg)\n",
    "    def accelerate(self,spd):\n",
    "        self.speed+=spd\n",
    "        return self.speed\n",
    "\n",
    "    def break_(self,spd):\n",
    "        self.speed-=spd\n",
    "        return self.speed\n",
    "        "
   ]
  },
  {
   "cell_type": "markdown",
   "id": "b8264fb2-679f-44ee-8399-71f43276ce5c",
   "metadata": {},
   "source": [
    "##### 6. Change some of the instance attributes to the private attributes."
   ]
  },
  {
   "cell_type": "code",
   "execution_count": 37,
   "id": "ca5b46b1-781a-4924-9da4-a9ed53486753",
   "metadata": {},
   "outputs": [],
   "source": [
    "class Vehicle:\n",
    "    def __init__(self,year,speed,mpg):\n",
    "        self.__year=year\n",
    "        self.speed=speed\n",
    "        self.mpg=mpg\n",
    "\n",
    "class Car(Vehicle):\n",
    "    def __init__(self,year,speed,mpg):\n",
    "        super().__init__(year,speed,mpg)\n",
    "\n",
    "class Bus(Vehicle):\n",
    "    def __init__(self,year,speed,mpg):\n",
    "        super().__init__(year,speed,mpg)"
   ]
  },
  {
   "cell_type": "code",
   "execution_count": null,
   "id": "610fa2ef-b18a-4780-8db6-61b8cc33a129",
   "metadata": {},
   "outputs": [
    {
     "ename": "AttributeError",
     "evalue": "'Car' object has no attribute 'year'",
     "output_type": "error",
     "traceback": [
      "\u001b[1;31m---------------------------------------------------------------------------\u001b[0m",
      "\u001b[1;31mAttributeError\u001b[0m                            Traceback (most recent call last)",
      "Cell \u001b[1;32mIn[39], line 2\u001b[0m\n\u001b[0;32m      1\u001b[0m x \u001b[38;5;241m=\u001b[39m Car(\u001b[38;5;241m1994\u001b[39m,\u001b[38;5;241m120\u001b[39m,\u001b[38;5;241m20\u001b[39m)\n\u001b[1;32m----> 2\u001b[0m \u001b[43mx\u001b[49m\u001b[38;5;241;43m.\u001b[39;49m\u001b[43myear\u001b[49m\n",
      "\u001b[1;31mAttributeError\u001b[0m: 'Car' object has no attribute 'year'"
     ]
    }
   ],
   "source": [
    "x = Car(1994,120,20)\n",
    "x.year"
   ]
  },
  {
   "cell_type": "markdown",
   "id": "fd6ee928",
   "metadata": {},
   "source": [
    "We take an error that says 'Car' object has no attribute 'year', because we changed year instance to the private instance."
   ]
  },
  {
   "cell_type": "code",
   "execution_count": 41,
   "id": "3d70ae7d-f965-43d4-b250-43081dea5123",
   "metadata": {},
   "outputs": [
    {
     "data": {
      "text/plain": [
       "120"
      ]
     },
     "execution_count": 41,
     "metadata": {},
     "output_type": "execute_result"
    }
   ],
   "source": [
    "x.speed"
   ]
  }
 ],
 "metadata": {
  "kernelspec": {
   "display_name": "Python 3 (ipykernel)",
   "language": "python",
   "name": "python3"
  },
  "language_info": {
   "codemirror_mode": {
    "name": "ipython",
    "version": 3
   },
   "file_extension": ".py",
   "mimetype": "text/x-python",
   "name": "python",
   "nbconvert_exporter": "python",
   "pygments_lexer": "ipython3",
   "version": "3.11.7"
  }
 },
 "nbformat": 4,
 "nbformat_minor": 5
}

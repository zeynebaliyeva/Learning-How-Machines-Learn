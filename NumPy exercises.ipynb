{
 "cells": [
  {
   "cell_type": "code",
   "execution_count": 16,
   "id": "ef6fbf83-c78b-4719-9a08-6783faa047ac",
   "metadata": {},
   "outputs": [],
   "source": [
    "import numpy as np"
   ]
  },
  {
   "cell_type": "markdown",
   "id": "5eea311f-81f8-4b09-b6a6-21d61d211531",
   "metadata": {},
   "source": [
    "##### 1) Create an array of 20 linearly spaced points between 0 and 1."
   ]
  },
  {
   "cell_type": "code",
   "execution_count": 6,
   "id": "f27d5344-c045-447e-ad0d-04d5118c8ffd",
   "metadata": {},
   "outputs": [
    {
     "data": {
      "text/plain": [
       "array([0.        , 0.05263158, 0.10526316, 0.15789474, 0.21052632,\n",
       "       0.26315789, 0.31578947, 0.36842105, 0.42105263, 0.47368421,\n",
       "       0.52631579, 0.57894737, 0.63157895, 0.68421053, 0.73684211,\n",
       "       0.78947368, 0.84210526, 0.89473684, 0.94736842, 1.        ])"
      ]
     },
     "execution_count": 6,
     "metadata": {},
     "output_type": "execute_result"
    }
   ],
   "source": [
    "np.linspace(0,1,20)"
   ]
  },
  {
   "cell_type": "markdown",
   "id": "8d92f4d0-ff42-472a-b141-0842d1a43a89",
   "metadata": {},
   "source": [
    "##### 2) Create a 5x5 matrix from 1 to 25 and sum the columns' numbers."
   ]
  },
  {
   "cell_type": "code",
   "execution_count": 207,
   "id": "66eeb4ac-1326-4726-9e17-18d6968246c6",
   "metadata": {},
   "outputs": [],
   "source": [
    "arr = np.arange(1,26).reshape(5,5).sum(axis=0)"
   ]
  },
  {
   "cell_type": "code",
   "execution_count": 209,
   "id": "f3bde7af-a01f-4308-b4e8-8dbe8b68996d",
   "metadata": {},
   "outputs": [
    {
     "data": {
      "text/plain": [
       "array([55, 60, 65, 70, 75])"
      ]
     },
     "execution_count": 209,
     "metadata": {},
     "output_type": "execute_result"
    }
   ],
   "source": [
    "arr"
   ]
  },
  {
   "cell_type": "markdown",
   "id": "d73debad-3352-42cd-a346-0eed6a911618",
   "metadata": {},
   "source": [
    "##### 3) Create the following matrix.\n",
    "\n",
    "**0.01 0.02 0.03 0.04 0.05 0.06 0.07 0.08 0.09 0.1\n",
    "0.11 0.12 0.13 0.14 0.15 0.16 0.17 0.18 0.19 0.2\n",
    "0.21 0.22 0.23 0.24 0.25 0.26 0.27 0.28 0.29 0.3\n",
    "0.31 0.32 0.33 0.34 0.35 0.36 0.37 0.38 0.39 0.4\n",
    "0.41 0.42 0.43 0.44 0.45 0.46 0.47 0.48 0.49 0.5\n",
    "0.51 0.52 0.53 0.54 0.55 0.56 0.57 0.58 0.59 0.6\n",
    "0.61 0.62 0.63 0.64 0.65 0.66 0.67 0.68 0.69 0.7\n",
    "0.71 0.72 0.73 0.74 0.75 0.76 0.77 0.78 0.79 0.8\n",
    "0.81 0.82 0.83 0.84 0.85 0.86 0.87 0.88 0.89 0.9\n",
    "0.91 0.92 0.93 0.94 0.95 0.96 0.97 0.98 0.99 1.**"
   ]
  },
  {
   "cell_type": "code",
   "execution_count": 215,
   "id": "c55cf00c-843d-4007-8d45-ccee6621441f",
   "metadata": {},
   "outputs": [
    {
     "data": {
      "text/plain": [
       "array([[0.01, 0.02, 0.03, 0.04, 0.05, 0.06, 0.07, 0.08, 0.09, 0.1 ],\n",
       "       [0.11, 0.12, 0.13, 0.14, 0.15, 0.16, 0.17, 0.18, 0.19, 0.2 ],\n",
       "       [0.21, 0.22, 0.23, 0.24, 0.25, 0.26, 0.27, 0.28, 0.29, 0.3 ],\n",
       "       [0.31, 0.32, 0.33, 0.34, 0.35, 0.36, 0.37, 0.38, 0.39, 0.4 ],\n",
       "       [0.41, 0.42, 0.43, 0.44, 0.45, 0.46, 0.47, 0.48, 0.49, 0.5 ],\n",
       "       [0.51, 0.52, 0.53, 0.54, 0.55, 0.56, 0.57, 0.58, 0.59, 0.6 ],\n",
       "       [0.61, 0.62, 0.63, 0.64, 0.65, 0.66, 0.67, 0.68, 0.69, 0.7 ],\n",
       "       [0.71, 0.72, 0.73, 0.74, 0.75, 0.76, 0.77, 0.78, 0.79, 0.8 ],\n",
       "       [0.81, 0.82, 0.83, 0.84, 0.85, 0.86, 0.87, 0.88, 0.89, 0.9 ],\n",
       "       [0.91, 0.92, 0.93, 0.94, 0.95, 0.96, 0.97, 0.98, 0.99, 1.  ]])"
      ]
     },
     "execution_count": 215,
     "metadata": {},
     "output_type": "execute_result"
    }
   ],
   "source": [
    "np.linspace(0.01,1,100).reshape(10,10)"
   ]
  },
  {
   "cell_type": "code",
   "execution_count": 221,
   "id": "6d2643b8-7751-4269-b074-33627f56ec68",
   "metadata": {},
   "outputs": [
    {
     "data": {
      "text/plain": [
       "array([[0.01, 0.02, 0.03, 0.04, 0.05, 0.06, 0.07, 0.08, 0.09, 0.1 ],\n",
       "       [0.11, 0.12, 0.13, 0.14, 0.15, 0.16, 0.17, 0.18, 0.19, 0.2 ],\n",
       "       [0.21, 0.22, 0.23, 0.24, 0.25, 0.26, 0.27, 0.28, 0.29, 0.3 ],\n",
       "       [0.31, 0.32, 0.33, 0.34, 0.35, 0.36, 0.37, 0.38, 0.39, 0.4 ],\n",
       "       [0.41, 0.42, 0.43, 0.44, 0.45, 0.46, 0.47, 0.48, 0.49, 0.5 ],\n",
       "       [0.51, 0.52, 0.53, 0.54, 0.55, 0.56, 0.57, 0.58, 0.59, 0.6 ],\n",
       "       [0.61, 0.62, 0.63, 0.64, 0.65, 0.66, 0.67, 0.68, 0.69, 0.7 ],\n",
       "       [0.71, 0.72, 0.73, 0.74, 0.75, 0.76, 0.77, 0.78, 0.79, 0.8 ],\n",
       "       [0.81, 0.82, 0.83, 0.84, 0.85, 0.86, 0.87, 0.88, 0.89, 0.9 ],\n",
       "       [0.91, 0.92, 0.93, 0.94, 0.95, 0.96, 0.97, 0.98, 0.99, 1.  ]])"
      ]
     },
     "execution_count": 221,
     "metadata": {},
     "output_type": "execute_result"
    }
   ],
   "source": [
    "np.arange(0.01,1.01,0.01).reshape(10,10)"
   ]
  },
  {
   "cell_type": "markdown",
   "id": "3f1c16e9-9bc1-4833-a182-51309d9a48ff",
   "metadata": {},
   "source": [
    "##### 4) Follow the steps:\n",
    "- A) Define a structured data type ( name - S20, Surname - S20, age-i1, mark-f4)\n",
    "- B) Create an array with the given information below in a data type created\n",
    "(Behram Abbasov 26 85, Yusif Abdullayev 22 92, Maryam Mecidova 19 88, Vagif Hesenzade 24 79)"
   ]
  },
  {
   "cell_type": "code",
   "execution_count": 225,
   "id": "822ea4d9-756e-4de5-84f7-d6aed85b098d",
   "metadata": {},
   "outputs": [
    {
     "data": {
      "text/plain": [
       "array([(b'Behram', b'Abbasov', 26, 85.),\n",
       "       (b'Yusif', b'Abdullayev', 22, 92.),\n",
       "       (b'Maryam', b'Mecidova', 19, 88.),\n",
       "       (b'Vagif', b'Hesenzade', 24, 79.)],\n",
       "      dtype=[('name', 'S20'), ('surname', 'S20'), ('age', 'i1'), ('mark', '<f4')])"
      ]
     },
     "execution_count": 225,
     "metadata": {},
     "output_type": "execute_result"
    }
   ],
   "source": [
    "np.array([('Behram','Abbasov',26,85),('Yusif','Abdullayev',22,92),('Maryam','Mecidova',19,88),('Vagif','Hesenzade',24,79)],dtype=[('name','S20'),('surname','S20'),('age','i1'),('mark','f4')])"
   ]
  },
  {
   "cell_type": "markdown",
   "id": "b4ea6895-9a86-4a6b-b019-a49f75685b8e",
   "metadata": {},
   "source": [
    "##### 5) Create the following array.\n",
    "\n",
    "- 99 99 99 99 99 99 99 99 99 99\n",
    "- 99 1 0 0 0 0 0 0 0 99\n",
    "- 99 0 1 1 1 1 1 1 0 99\n",
    "- 99 0 1 0 0 0 0 1 0 99\n",
    "- 99 0 1 0 1 1 0 1 0 99\n",
    "- 99 0 1 0 1 1 0 1 0 99\n",
    "- 99 0 1 0 0 0 0 1 0 99\n",
    "- 99 0   1  1  1  1  1  1  0 99\n",
    "- 99 0   0  0  0  0  0  0  1 99\n",
    "- 99 99 99 99 99 99 99 99 99 99"
   ]
  },
  {
   "cell_type": "code",
   "execution_count": 166,
   "id": "da253e4b-3611-448d-8565-d0865cc1ce49",
   "metadata": {},
   "outputs": [],
   "source": [
    "arr2=np.full((10,10),99)"
   ]
  },
  {
   "cell_type": "code",
   "execution_count": 168,
   "id": "7d296bcd-2190-48fb-abee-e73e9076defc",
   "metadata": {},
   "outputs": [],
   "source": [
    "arr2[1:9,1:9] = 0"
   ]
  },
  {
   "cell_type": "code",
   "execution_count": 170,
   "id": "300a1beb-c80b-4ea9-8026-6e18e4d0f9c8",
   "metadata": {},
   "outputs": [
    {
     "data": {
      "text/plain": [
       "array([[99, 99, 99, 99, 99, 99, 99, 99, 99, 99],\n",
       "       [99,  0,  0,  0,  0,  0,  0,  0,  0, 99],\n",
       "       [99,  0,  0,  0,  0,  0,  0,  0,  0, 99],\n",
       "       [99,  0,  0,  0,  0,  0,  0,  0,  0, 99],\n",
       "       [99,  0,  0,  0,  0,  0,  0,  0,  0, 99],\n",
       "       [99,  0,  0,  0,  0,  0,  0,  0,  0, 99],\n",
       "       [99,  0,  0,  0,  0,  0,  0,  0,  0, 99],\n",
       "       [99,  0,  0,  0,  0,  0,  0,  0,  0, 99],\n",
       "       [99,  0,  0,  0,  0,  0,  0,  0,  0, 99],\n",
       "       [99, 99, 99, 99, 99, 99, 99, 99, 99, 99]])"
      ]
     },
     "execution_count": 170,
     "metadata": {},
     "output_type": "execute_result"
    }
   ],
   "source": [
    "arr2"
   ]
  },
  {
   "cell_type": "code",
   "execution_count": 172,
   "id": "4a70b3b7-e97b-4383-a036-69c12141842e",
   "metadata": {},
   "outputs": [],
   "source": [
    "arr2[2:8,2] =1"
   ]
  },
  {
   "cell_type": "code",
   "execution_count": 174,
   "id": "7ceae244-774d-42d2-8474-1470e968c8ee",
   "metadata": {},
   "outputs": [
    {
     "data": {
      "text/plain": [
       "array([[99, 99, 99, 99, 99, 99, 99, 99, 99, 99],\n",
       "       [99,  0,  0,  0,  0,  0,  0,  0,  0, 99],\n",
       "       [99,  0,  1,  0,  0,  0,  0,  0,  0, 99],\n",
       "       [99,  0,  1,  0,  0,  0,  0,  0,  0, 99],\n",
       "       [99,  0,  1,  0,  0,  0,  0,  0,  0, 99],\n",
       "       [99,  0,  1,  0,  0,  0,  0,  0,  0, 99],\n",
       "       [99,  0,  1,  0,  0,  0,  0,  0,  0, 99],\n",
       "       [99,  0,  1,  0,  0,  0,  0,  0,  0, 99],\n",
       "       [99,  0,  0,  0,  0,  0,  0,  0,  0, 99],\n",
       "       [99, 99, 99, 99, 99, 99, 99, 99, 99, 99]])"
      ]
     },
     "execution_count": 174,
     "metadata": {},
     "output_type": "execute_result"
    }
   ],
   "source": [
    "arr2"
   ]
  },
  {
   "cell_type": "code",
   "execution_count": 176,
   "id": "27b0088b-8387-4885-ba06-c07999d4079e",
   "metadata": {},
   "outputs": [],
   "source": [
    "arr2[2:8,7] =1"
   ]
  },
  {
   "cell_type": "code",
   "execution_count": 178,
   "id": "cad8f602-2eda-45d4-9186-89939fa4e4f5",
   "metadata": {},
   "outputs": [
    {
     "data": {
      "text/plain": [
       "array([[99, 99, 99, 99, 99, 99, 99, 99, 99, 99],\n",
       "       [99,  0,  0,  0,  0,  0,  0,  0,  0, 99],\n",
       "       [99,  0,  1,  0,  0,  0,  0,  1,  0, 99],\n",
       "       [99,  0,  1,  0,  0,  0,  0,  1,  0, 99],\n",
       "       [99,  0,  1,  0,  0,  0,  0,  1,  0, 99],\n",
       "       [99,  0,  1,  0,  0,  0,  0,  1,  0, 99],\n",
       "       [99,  0,  1,  0,  0,  0,  0,  1,  0, 99],\n",
       "       [99,  0,  1,  0,  0,  0,  0,  1,  0, 99],\n",
       "       [99,  0,  0,  0,  0,  0,  0,  0,  0, 99],\n",
       "       [99, 99, 99, 99, 99, 99, 99, 99, 99, 99]])"
      ]
     },
     "execution_count": 178,
     "metadata": {},
     "output_type": "execute_result"
    }
   ],
   "source": [
    "arr2"
   ]
  },
  {
   "cell_type": "code",
   "execution_count": 180,
   "id": "7d5eecc1-333f-4d1c-8294-f0e8f8e94af0",
   "metadata": {},
   "outputs": [],
   "source": [
    "arr2[2,3:7] =1"
   ]
  },
  {
   "cell_type": "code",
   "execution_count": 182,
   "id": "74fd5f29-6942-4486-922b-686fd0795cea",
   "metadata": {},
   "outputs": [
    {
     "data": {
      "text/plain": [
       "array([[99, 99, 99, 99, 99, 99, 99, 99, 99, 99],\n",
       "       [99,  0,  0,  0,  0,  0,  0,  0,  0, 99],\n",
       "       [99,  0,  1,  1,  1,  1,  1,  1,  0, 99],\n",
       "       [99,  0,  1,  0,  0,  0,  0,  1,  0, 99],\n",
       "       [99,  0,  1,  0,  0,  0,  0,  1,  0, 99],\n",
       "       [99,  0,  1,  0,  0,  0,  0,  1,  0, 99],\n",
       "       [99,  0,  1,  0,  0,  0,  0,  1,  0, 99],\n",
       "       [99,  0,  1,  0,  0,  0,  0,  1,  0, 99],\n",
       "       [99,  0,  0,  0,  0,  0,  0,  0,  0, 99],\n",
       "       [99, 99, 99, 99, 99, 99, 99, 99, 99, 99]])"
      ]
     },
     "execution_count": 182,
     "metadata": {},
     "output_type": "execute_result"
    }
   ],
   "source": [
    "arr2"
   ]
  },
  {
   "cell_type": "code",
   "execution_count": 184,
   "id": "b2f2a345-d9dd-4039-ae8e-f8a9848fd2b8",
   "metadata": {},
   "outputs": [],
   "source": [
    "arr2[7,3:7] =1"
   ]
  },
  {
   "cell_type": "code",
   "execution_count": 186,
   "id": "7f314997-ea52-4f8c-a5d8-cd0261e05eab",
   "metadata": {},
   "outputs": [
    {
     "data": {
      "text/plain": [
       "array([[99, 99, 99, 99, 99, 99, 99, 99, 99, 99],\n",
       "       [99,  0,  0,  0,  0,  0,  0,  0,  0, 99],\n",
       "       [99,  0,  1,  1,  1,  1,  1,  1,  0, 99],\n",
       "       [99,  0,  1,  0,  0,  0,  0,  1,  0, 99],\n",
       "       [99,  0,  1,  0,  0,  0,  0,  1,  0, 99],\n",
       "       [99,  0,  1,  0,  0,  0,  0,  1,  0, 99],\n",
       "       [99,  0,  1,  0,  0,  0,  0,  1,  0, 99],\n",
       "       [99,  0,  1,  1,  1,  1,  1,  1,  0, 99],\n",
       "       [99,  0,  0,  0,  0,  0,  0,  0,  0, 99],\n",
       "       [99, 99, 99, 99, 99, 99, 99, 99, 99, 99]])"
      ]
     },
     "execution_count": 186,
     "metadata": {},
     "output_type": "execute_result"
    }
   ],
   "source": [
    "arr2"
   ]
  },
  {
   "cell_type": "code",
   "execution_count": 188,
   "id": "1295b588-1ea4-4255-9ff8-2ac76f19d004",
   "metadata": {},
   "outputs": [],
   "source": [
    "arr2[(1,8),(1,8)] = 1"
   ]
  },
  {
   "cell_type": "code",
   "execution_count": 190,
   "id": "622d184f-3f53-419d-bd51-ba274265fd61",
   "metadata": {},
   "outputs": [
    {
     "data": {
      "text/plain": [
       "array([[99, 99, 99, 99, 99, 99, 99, 99, 99, 99],\n",
       "       [99,  1,  0,  0,  0,  0,  0,  0,  0, 99],\n",
       "       [99,  0,  1,  1,  1,  1,  1,  1,  0, 99],\n",
       "       [99,  0,  1,  0,  0,  0,  0,  1,  0, 99],\n",
       "       [99,  0,  1,  0,  0,  0,  0,  1,  0, 99],\n",
       "       [99,  0,  1,  0,  0,  0,  0,  1,  0, 99],\n",
       "       [99,  0,  1,  0,  0,  0,  0,  1,  0, 99],\n",
       "       [99,  0,  1,  1,  1,  1,  1,  1,  0, 99],\n",
       "       [99,  0,  0,  0,  0,  0,  0,  0,  1, 99],\n",
       "       [99, 99, 99, 99, 99, 99, 99, 99, 99, 99]])"
      ]
     },
     "execution_count": 190,
     "metadata": {},
     "output_type": "execute_result"
    }
   ],
   "source": [
    "arr2"
   ]
  },
  {
   "cell_type": "code",
   "execution_count": 192,
   "id": "6a809f14-e94e-4689-8a5d-e768de6b3a08",
   "metadata": {},
   "outputs": [],
   "source": [
    "arr2[4:6,4:6] = 1"
   ]
  },
  {
   "cell_type": "code",
   "execution_count": 194,
   "id": "69bd3be4-1945-4d53-a764-190efcdf339e",
   "metadata": {},
   "outputs": [
    {
     "data": {
      "text/plain": [
       "array([[99, 99, 99, 99, 99, 99, 99, 99, 99, 99],\n",
       "       [99,  1,  0,  0,  0,  0,  0,  0,  0, 99],\n",
       "       [99,  0,  1,  1,  1,  1,  1,  1,  0, 99],\n",
       "       [99,  0,  1,  0,  0,  0,  0,  1,  0, 99],\n",
       "       [99,  0,  1,  0,  1,  1,  0,  1,  0, 99],\n",
       "       [99,  0,  1,  0,  1,  1,  0,  1,  0, 99],\n",
       "       [99,  0,  1,  0,  0,  0,  0,  1,  0, 99],\n",
       "       [99,  0,  1,  1,  1,  1,  1,  1,  0, 99],\n",
       "       [99,  0,  0,  0,  0,  0,  0,  0,  1, 99],\n",
       "       [99, 99, 99, 99, 99, 99, 99, 99, 99, 99]])"
      ]
     },
     "execution_count": 194,
     "metadata": {},
     "output_type": "execute_result"
    }
   ],
   "source": [
    "arr2"
   ]
  }
 ],
 "metadata": {
  "kernelspec": {
   "display_name": "Python 3 (ipykernel)",
   "language": "python",
   "name": "python3"
  },
  "language_info": {
   "codemirror_mode": {
    "name": "ipython",
    "version": 3
   },
   "file_extension": ".py",
   "mimetype": "text/x-python",
   "name": "python",
   "nbconvert_exporter": "python",
   "pygments_lexer": "ipython3",
   "version": "3.11.7"
  }
 },
 "nbformat": 4,
 "nbformat_minor": 5
}

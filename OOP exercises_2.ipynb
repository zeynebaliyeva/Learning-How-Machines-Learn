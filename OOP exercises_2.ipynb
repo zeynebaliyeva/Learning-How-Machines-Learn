{
 "cells": [
  {
   "cell_type": "markdown",
   "id": "11bbb7b7-d669-435c-b956-9b4844412e39",
   "metadata": {},
   "source": [
    "##### 1. Create a Vehicle class with maxspeed and color instance attributes."
   ]
  },
  {
   "cell_type": "code",
   "execution_count": 2,
   "id": "7709f034-4559-4093-8c4a-6458a5d9e5f3",
   "metadata": {},
   "outputs": [],
   "source": [
    "class Vehicle:\n",
    "    def __init__(self,maxspeed,color):\n",
    "        self.maxspeed = maxspeed\n",
    "        self.color = color"
   ]
  },
  {
   "cell_type": "markdown",
   "id": "762b14da-caba-49bf-be2e-67e5cd9ebc4d",
   "metadata": {},
   "source": [
    "##### 2. Create new method which prints maxspeed and the color for the given vehicle."
   ]
  },
  {
   "cell_type": "code",
   "execution_count": 5,
   "id": "0bed444d-d61e-44f6-8027-48962fd20eb9",
   "metadata": {},
   "outputs": [],
   "source": [
    "class Vehicle:\n",
    "    def __init__(self,maxspeed,color):\n",
    "        self.maxspeed = maxspeed\n",
    "        self.color = color\n",
    "    def get_maxspeed(self):\n",
    "        return self.maxspeed\n",
    "    def get_color(self):\n",
    "        return self.color"
   ]
  },
  {
   "cell_type": "code",
   "execution_count": 7,
   "id": "890b1f72-db1a-41e0-b4b5-755f69357107",
   "metadata": {},
   "outputs": [
    {
     "name": "stdout",
     "output_type": "stream",
     "text": [
      "red\n",
      "100\n"
     ]
    }
   ],
   "source": [
    "v1 = Vehicle(100,'red')\n",
    "print(v1.get_color())\n",
    "print(v1.get_maxspeed())"
   ]
  },
  {
   "cell_type": "markdown",
   "id": "f7f0d688-a403-4158-a995-7076bfb0a58e",
   "metadata": {},
   "source": [
    "##### 3. Create child class Car that will inherit all of the variables and methods of the Vehicle class."
   ]
  },
  {
   "cell_type": "code",
   "execution_count": 10,
   "id": "56b0e058-4bf6-4f92-a4ac-2f236c8e3cab",
   "metadata": {},
   "outputs": [],
   "source": [
    "class Vehicle:\n",
    "    def __init__(self,maxspeed,color):\n",
    "        self.maxspeed = maxspeed\n",
    "        self.color = color\n",
    "    def get_maxspeed(self):\n",
    "        return self.maxspeed\n",
    "    def get_color(self):\n",
    "        return self.color\n",
    "\n",
    "class Car(Vehicle):\n",
    "    def __init__(self,maxspeed,color):\n",
    "        super().__init__(maxspeed,color)"
   ]
  },
  {
   "cell_type": "code",
   "execution_count": 12,
   "id": "54d99326-fdfc-4f07-ae5f-e9d22ac68995",
   "metadata": {},
   "outputs": [
    {
     "name": "stdout",
     "output_type": "stream",
     "text": [
      "green\n",
      "130\n"
     ]
    }
   ],
   "source": [
    "v2 = Car(130,'green')\n",
    "print(v2.get_color())\n",
    "print(v2.get_maxspeed())"
   ]
  },
  {
   "cell_type": "markdown",
   "id": "353398be-6df4-44a4-884c-c441d0e38e80",
   "metadata": {},
   "source": [
    "##### 4. Define property that should have the same value for every class instance.\n",
    "- Example : Every Vehicle should be white."
   ]
  },
  {
   "cell_type": "code",
   "execution_count": 15,
   "id": "74572a1f-4308-4447-bf08-edc38cc61845",
   "metadata": {},
   "outputs": [],
   "source": [
    "class Vehicle:\n",
    "    color = 'white'\n",
    "    def __init__(self,maxspeed):\n",
    "        self.maxspeed = maxspeed"
   ]
  },
  {
   "cell_type": "code",
   "execution_count": 17,
   "id": "e0a8063f-358f-43f1-80cb-5cfdd853e7b6",
   "metadata": {},
   "outputs": [
    {
     "name": "stdout",
     "output_type": "stream",
     "text": [
      "white\n",
      "120\n",
      "-----------\n",
      "white\n",
      "140\n"
     ]
    }
   ],
   "source": [
    "v3 = Vehicle(120)\n",
    "print(v3.color)\n",
    "print(v3.maxspeed)\n",
    "print('-----------')\n",
    "v4 = Vehicle(140)\n",
    "print(v4.color)\n",
    "print(v4.maxspeed)"
   ]
  },
  {
   "cell_type": "markdown",
   "id": "3034421a-e2e3-4d80-aed4-78b23e999948",
   "metadata": {},
   "source": [
    "##### 5. Create a Train child class that inherits from the Vehicle class. The default fare of any vehicle is seating capacity * 35. If Vehicle is Train instance, we need to add an extra 10% on full fare as a maintenance charge."
   ]
  },
  {
   "cell_type": "code",
   "execution_count": 20,
   "id": "0d8da055-a635-4909-b88c-ebb0ec9f6cbe",
   "metadata": {},
   "outputs": [],
   "source": [
    "class Vehicle:\n",
    "    def __init__(self,maxspeed,color,seatcap):\n",
    "        self.maxspeed = maxspeed\n",
    "        self.color = color\n",
    "        self.seatcap = seatcap\n",
    "    \n",
    "\n",
    "class Car(Vehicle):\n",
    "    def __init__(self,maxspeed,color,seatcap):\n",
    "        super().__init__(maxspeed,color,seatcap)\n",
    "    def get_maxspeed(self):\n",
    "        return self.maxspeed\n",
    "    def get_color(self):\n",
    "        return self.color\n",
    "\n",
    "    def get_fare(self):\n",
    "        return self.seatcap*35\n",
    "\n",
    "class Train(Vehicle):\n",
    "    def __init(self,maxspeed,color,seatcap):\n",
    "        super().__init__(maxspeed,color,seatcap)\n",
    "    def get_maxspeed(self):\n",
    "        return self.maxspeed\n",
    "    def get_color(self):\n",
    "        return self.color\n",
    "    def get_fare(self):\n",
    "        return self.seatcap*35+ ((self.seatcap*35)*10)/100"
   ]
  },
  {
   "cell_type": "code",
   "execution_count": 22,
   "id": "7ae7f2cb-9b2a-4904-9069-be59dc48f874",
   "metadata": {},
   "outputs": [
    {
     "data": {
      "text/plain": [
       "154.0"
      ]
     },
     "execution_count": 22,
     "metadata": {},
     "output_type": "execute_result"
    }
   ],
   "source": [
    "v5 = Train(200,'black',4)\n",
    "v5.get_fare()"
   ]
  },
  {
   "cell_type": "code",
   "execution_count": 24,
   "id": "682e85b5-2459-4984-be9f-584959808dfa",
   "metadata": {},
   "outputs": [
    {
     "data": {
      "text/plain": [
       "140"
      ]
     },
     "execution_count": 24,
     "metadata": {},
     "output_type": "execute_result"
    }
   ],
   "source": [
    "v6 = Car(200,'black',4)\n",
    "v6.get_fare()"
   ]
  }
 ],
 "metadata": {
  "kernelspec": {
   "display_name": "Python 3 (ipykernel)",
   "language": "python",
   "name": "python3"
  },
  "language_info": {
   "codemirror_mode": {
    "name": "ipython",
    "version": 3
   },
   "file_extension": ".py",
   "mimetype": "text/x-python",
   "name": "python",
   "nbconvert_exporter": "python",
   "pygments_lexer": "ipython3",
   "version": "3.11.7"
  }
 },
 "nbformat": 4,
 "nbformat_minor": 5
}

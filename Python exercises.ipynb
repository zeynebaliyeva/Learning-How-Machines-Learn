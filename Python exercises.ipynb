{
 "cells": [
  {
   "cell_type": "markdown",
   "id": "82f23a75-0234-4436-af8d-b7a801c4a685",
   "metadata": {},
   "source": [
    "##### 1.Print First 10 natural numbers using while loop."
   ]
  },
  {
   "cell_type": "code",
   "execution_count": 1,
   "id": "a418e39b-5af2-4d68-b2b2-1a6e0cb90940",
   "metadata": {},
   "outputs": [
    {
     "name": "stdout",
     "output_type": "stream",
     "text": [
      "1\n",
      "2\n",
      "3\n",
      "4\n",
      "5\n",
      "6\n",
      "7\n",
      "8\n",
      "9\n",
      "10\n"
     ]
    }
   ],
   "source": [
    "i=1\n",
    "while i<=10:\n",
    "    print(i)\n",
    "    i+=1"
   ]
  },
  {
   "cell_type": "markdown",
   "id": "a7bb5f87-f183-4458-83fd-ecf16ce9fd19",
   "metadata": {},
   "source": [
    "##### 2.Display -10 to -1 using for loop."
   ]
  },
  {
   "cell_type": "code",
   "execution_count": 2,
   "id": "2f5c318f-bfc2-41d4-9f15-ef835701c538",
   "metadata": {},
   "outputs": [
    {
     "name": "stdout",
     "output_type": "stream",
     "text": [
      "-10\n",
      "-9\n",
      "-8\n",
      "-7\n",
      "-6\n",
      "-5\n",
      "-4\n",
      "-3\n",
      "-2\n",
      "-1\n"
     ]
    }
   ],
   "source": [
    "for i in range(-10,0):\n",
    "    print(i)"
   ]
  },
  {
   "cell_type": "markdown",
   "id": "4d7f30a2-9df8-4871-9764-d632ed942873",
   "metadata": {},
   "source": [
    "##### 3.Write a Python program that prints all the numbers from 0 to 6 except 3 and 6."
   ]
  },
  {
   "cell_type": "code",
   "execution_count": 4,
   "id": "92538707-0414-426f-b3f6-d003bb7be9eb",
   "metadata": {},
   "outputs": [
    {
     "name": "stdout",
     "output_type": "stream",
     "text": [
      "0\n",
      "1\n",
      "2\n",
      "4\n",
      "5\n"
     ]
    }
   ],
   "source": [
    "for i in range(0,6):\n",
    "    if i==3 or i==6:\n",
    "        continue\n",
    "    print(i)"
   ]
  },
  {
   "cell_type": "markdown",
   "id": "03bf169e-94c8-498a-a503-a9d9ea419d11",
   "metadata": {},
   "source": [
    "##### 4.Calculate the sum of all number between 1 and 111."
   ]
  },
  {
   "cell_type": "code",
   "execution_count": 6,
   "id": "80a8ad4d-2e7c-4106-9b6e-65d0102246f9",
   "metadata": {},
   "outputs": [
    {
     "name": "stdout",
     "output_type": "stream",
     "text": [
      "66\n"
     ]
    }
   ],
   "source": [
    "s=0\n",
    "for i in range(1,12):\n",
    "    s+=i\n",
    "print(s)"
   ]
  },
  {
   "cell_type": "markdown",
   "id": "55f98814-1830-44e6-8fbc-f4fdec12dc38",
   "metadata": {},
   "source": [
    "##### 5.Reverse the following list using for loop: list1 = [10, 20, 30, 40, 50]"
   ]
  },
  {
   "cell_type": "code",
   "execution_count": 16,
   "id": "3ee489b5-78a6-447d-8167-538ca13b2fcb",
   "metadata": {},
   "outputs": [],
   "source": [
    "list2=[]\n",
    "for i in range(len(list1)):\n",
    "    list2.append(list1[-1])\n",
    "    del list1[-1]"
   ]
  },
  {
   "cell_type": "code",
   "execution_count": 17,
   "id": "4cb03e8d-45c5-47dc-9da8-d42aa85ba60f",
   "metadata": {},
   "outputs": [],
   "source": [
    "list1 = [10,20,30,40,50]\n"
   ]
  },
  {
   "cell_type": "code",
   "execution_count": 18,
   "id": "a1c23914-d74c-4f75-b917-68a2552cc2fa",
   "metadata": {},
   "outputs": [
    {
     "data": {
      "text/plain": [
       "[50, 40, 30, 20, 10]"
      ]
     },
     "execution_count": 18,
     "metadata": {},
     "output_type": "execute_result"
    }
   ],
   "source": [
    "list2"
   ]
  },
  {
   "cell_type": "markdown",
   "id": "a447fc0d-e6ca-4e9a-bb03-46631c6d56b6",
   "metadata": {},
   "source": [
    "##### 6.Write a Python program to find those numbers which are divisible by 7 and 5, between 1500 and 2700 (both included)."
   ]
  },
  {
   "cell_type": "code",
   "execution_count": 23,
   "id": "6604641c-a08d-4729-9f0f-5f75093422bc",
   "metadata": {},
   "outputs": [
    {
     "name": "stdout",
     "output_type": "stream",
     "text": [
      "1505\n",
      "1540\n",
      "1575\n",
      "1610\n",
      "1645\n",
      "1680\n",
      "1715\n",
      "1750\n",
      "1785\n",
      "1820\n",
      "1855\n",
      "1890\n",
      "1925\n",
      "1960\n",
      "1995\n",
      "2030\n",
      "2065\n",
      "2100\n",
      "2135\n",
      "2170\n",
      "2205\n",
      "2240\n",
      "2275\n",
      "2310\n",
      "2345\n",
      "2380\n",
      "2415\n",
      "2450\n",
      "2485\n",
      "2520\n",
      "2555\n",
      "2590\n",
      "2625\n",
      "2660\n",
      "2695\n"
     ]
    }
   ],
   "source": [
    "for i in range(1500,2701):\n",
    "    if i%7==0 and i%5==0:\n",
    "        print(i)"
   ]
  },
  {
   "cell_type": "markdown",
   "id": "d345b31f-7aa0-4a37-bb57-e3ac162d068b",
   "metadata": {},
   "source": [
    "##### 7.Display a message “Done” after successful execution of for loop."
   ]
  },
  {
   "cell_type": "code",
   "execution_count": 24,
   "id": "fcb6843b-73b6-4253-9c31-1241ec65b2bd",
   "metadata": {},
   "outputs": [
    {
     "name": "stdout",
     "output_type": "stream",
     "text": [
      "1505\n",
      "1540\n",
      "1575\n",
      "1610\n",
      "1645\n",
      "1680\n",
      "1715\n",
      "1750\n",
      "1785\n",
      "1820\n",
      "1855\n",
      "1890\n",
      "1925\n",
      "1960\n",
      "1995\n",
      "2030\n",
      "2065\n",
      "2100\n",
      "2135\n",
      "2170\n",
      "2205\n",
      "2240\n",
      "2275\n",
      "2310\n",
      "2345\n",
      "2380\n",
      "2415\n",
      "2450\n",
      "2485\n",
      "2520\n",
      "2555\n",
      "2590\n",
      "2625\n",
      "2660\n",
      "2695\n",
      "\n",
      "Done\n"
     ]
    }
   ],
   "source": [
    "for i in range(1500,2701):\n",
    "    if i%7==0 and i%5==0:\n",
    "        print(i)\n",
    "print()\n",
    "print('Done')"
   ]
  },
  {
   "cell_type": "markdown",
   "id": "9bdedb5d-8688-4533-958e-47740c4ce7fe",
   "metadata": {},
   "source": [
    "##### 8.Write a Python program to create a lambda function that adds 15 to a given number passed in as an argument, also create a lambda function that multiplies argument x with argument y and print the result."
   ]
  },
  {
   "cell_type": "code",
   "execution_count": 30,
   "id": "9bae0877-d6c2-4251-86ae-96630dc25bed",
   "metadata": {},
   "outputs": [
    {
     "data": {
      "text/plain": [
       "65"
      ]
     },
     "execution_count": 30,
     "metadata": {},
     "output_type": "execute_result"
    }
   ],
   "source": [
    "y = lambda x: x+15\n",
    "y(50)"
   ]
  },
  {
   "cell_type": "code",
   "execution_count": 32,
   "id": "5eaccaa6-f3f1-473f-b5ea-44f268b2fe01",
   "metadata": {},
   "outputs": [],
   "source": [
    "multiply = lambda x,y:x*y"
   ]
  },
  {
   "cell_type": "code",
   "execution_count": 33,
   "id": "e4690a52-04a8-4e3a-8157-8ed5ee043b0f",
   "metadata": {},
   "outputs": [
    {
     "data": {
      "text/plain": [
       "12"
      ]
     },
     "execution_count": 33,
     "metadata": {},
     "output_type": "execute_result"
    }
   ],
   "source": [
    "multiply(3,4)"
   ]
  },
  {
   "cell_type": "markdown",
   "id": "93e7e081-9762-4f77-ac4f-062931408397",
   "metadata": {},
   "source": [
    "##### 9.Write a Python program to square and cube every number in a given list of integers using Lambda."
   ]
  },
  {
   "cell_type": "code",
   "execution_count": 43,
   "id": "8c2d949c-6908-4295-a3fc-1e2070fbe120",
   "metadata": {},
   "outputs": [
    {
     "data": {
      "text/plain": [
       "[9, 16, 25, 36]"
      ]
     },
     "execution_count": 43,
     "metadata": {},
     "output_type": "execute_result"
    }
   ],
   "source": [
    "list(map(lambda x:x**2,l))"
   ]
  },
  {
   "cell_type": "code",
   "execution_count": 47,
   "id": "441a232f-44ce-4b71-881a-812f7920f4ba",
   "metadata": {},
   "outputs": [],
   "source": [
    "l = [3,4,5,6]"
   ]
  },
  {
   "cell_type": "code",
   "execution_count": 49,
   "id": "43ba593e-bcc4-415c-938d-05e35b4c9853",
   "metadata": {},
   "outputs": [
    {
     "data": {
      "text/plain": [
       "[27, 64, 125, 216]"
      ]
     },
     "execution_count": 49,
     "metadata": {},
     "output_type": "execute_result"
    }
   ],
   "source": [
    "list(map(lambda x:x**3,l))"
   ]
  },
  {
   "cell_type": "markdown",
   "id": "b3dcf3e2-74a6-40e4-b2b2-3b7286e8eaf3",
   "metadata": {},
   "source": [
    "##### 10.Write a lambda function that returns takes x as parameter and returns x+2. Then assign itto a variable named L."
   ]
  },
  {
   "cell_type": "code",
   "execution_count": 50,
   "id": "70a551ce-2ea0-410b-812f-404728f6630d",
   "metadata": {},
   "outputs": [],
   "source": [
    "L = lambda x:x+2"
   ]
  },
  {
   "cell_type": "code",
   "execution_count": 51,
   "id": "45fd97c4-5fae-4b0d-a721-f41604bc070b",
   "metadata": {},
   "outputs": [
    {
     "data": {
      "text/plain": [
       "8"
      ]
     },
     "execution_count": 51,
     "metadata": {},
     "output_type": "execute_result"
    }
   ],
   "source": [
    "L(6)"
   ]
  },
  {
   "cell_type": "markdown",
   "id": "9b678134-ac68-4d6f-8868-78c380005cf8",
   "metadata": {},
   "source": [
    "##### 11.Write a function which takes two arguments: a and b and returns the multiplication ofthem: a*b. Assign it to a variable named f."
   ]
  },
  {
   "cell_type": "code",
   "execution_count": 52,
   "id": "d58f51ef-4bb3-467b-b49f-64bf058d0c57",
   "metadata": {},
   "outputs": [],
   "source": [
    "f = lambda x,y:x*y"
   ]
  },
  {
   "cell_type": "code",
   "execution_count": 53,
   "id": "64e30cb4-b76e-443e-9d6d-837476c03ec8",
   "metadata": {},
   "outputs": [
    {
     "data": {
      "text/plain": [
       "63"
      ]
     },
     "execution_count": 53,
     "metadata": {},
     "output_type": "execute_result"
    }
   ],
   "source": [
    "f(7,9)"
   ]
  },
  {
   "cell_type": "markdown",
   "id": "0413a710-26b4-4d6e-97b0-041324a7d590",
   "metadata": {},
   "source": [
    "##### 12.Write a Python program to add two given lists using map and lambda."
   ]
  },
  {
   "cell_type": "code",
   "execution_count": 55,
   "id": "5431cbfe-a289-4808-a58c-e2e7de6d067b",
   "metadata": {},
   "outputs": [
    {
     "data": {
      "text/plain": [
       "[8, 10, 12, 14]"
      ]
     },
     "execution_count": 55,
     "metadata": {},
     "output_type": "execute_result"
    }
   ],
   "source": [
    "l1 = [1,2,3,4,5,6]\n",
    "l2=[7,8,9,10]\n",
    "list(map(lambda x,y:x+y, l1,l2))"
   ]
  },
  {
   "cell_type": "markdown",
   "id": "f3738936-752f-4c88-a5c3-91ee9a570123",
   "metadata": {},
   "source": [
    "##### 13.Write a map function that adds plus 5 to each item in the list."
   ]
  },
  {
   "cell_type": "code",
   "execution_count": 57,
   "id": "14678072-d578-4e6c-a05c-bc786e985f6d",
   "metadata": {},
   "outputs": [
    {
     "data": {
      "text/plain": [
       "[6, 7, 8, 9, 10, 11]"
      ]
     },
     "execution_count": 57,
     "metadata": {},
     "output_type": "execute_result"
    }
   ],
   "source": [
    "list(map(lambda x:x+5,l1))"
   ]
  },
  {
   "cell_type": "markdown",
   "id": "011e5d94-6c68-4c4e-adc3-4f0572021df1",
   "metadata": {},
   "source": [
    "##### 14.Write a map function that adds \"Hello, \" in front of each item in the list."
   ]
  },
  {
   "cell_type": "code",
   "execution_count": 59,
   "id": "0616b930-1705-4f7f-9e3e-f7b874573d33",
   "metadata": {},
   "outputs": [
    {
     "data": {
      "text/plain": [
       "['Hello Zeyneb', 'Hello Anar', 'Hello Aynur', 'Hello Semed']"
      ]
     },
     "execution_count": 59,
     "metadata": {},
     "output_type": "execute_result"
    }
   ],
   "source": [
    "s = ['Zeyneb','Anar','Aynur','Semed']\n",
    "list(map(lambda x:'Hello'+' '+x,s))"
   ]
  },
  {
   "cell_type": "markdown",
   "id": "f5993792-ba51-4874-aa72-4d589257bbfd",
   "metadata": {},
   "source": [
    "##### 15. Using map() function and len() function create a list that's consisted of lengths of each element in the first list."
   ]
  },
  {
   "cell_type": "code",
   "execution_count": 60,
   "id": "bc3b238d-101c-407f-b372-75b104c2edd8",
   "metadata": {},
   "outputs": [
    {
     "data": {
      "text/plain": [
       "[6, 4, 5, 5]"
      ]
     },
     "execution_count": 60,
     "metadata": {},
     "output_type": "execute_result"
    }
   ],
   "source": [
    "list(map(lambda x:len(x),s))"
   ]
  },
  {
   "cell_type": "markdown",
   "id": "e4ded28a-6895-42cb-a57d-f4d25d589534",
   "metadata": {},
   "source": [
    "##### 16. Using map() function and lambda add each elements of two lists together. Use a lambda with two arguments."
   ]
  },
  {
   "cell_type": "code",
   "execution_count": 62,
   "id": "9b866286-12e0-40c5-805b-9669d1eb82db",
   "metadata": {},
   "outputs": [
    {
     "data": {
      "text/plain": [
       "[8, 10, 12, 14]"
      ]
     },
     "execution_count": 62,
     "metadata": {},
     "output_type": "execute_result"
    }
   ],
   "source": [
    "list(map(lambda x,y:x+y,l1,l2))"
   ]
  },
  {
   "cell_type": "markdown",
   "id": "5312d19e-89d7-44f1-97b7-d91822561842",
   "metadata": {},
   "source": [
    "##### 17. Using map() , lambda and count() functions create a list consisted of the number of occurrence of letter: a."
   ]
  },
  {
   "cell_type": "code",
   "execution_count": 67,
   "id": "9c378d75-28f1-4f4a-8652-6d3221008f9d",
   "metadata": {},
   "outputs": [
    {
     "data": {
      "text/plain": [
       "[0, 1, 0, 0]"
      ]
     },
     "execution_count": 67,
     "metadata": {},
     "output_type": "execute_result"
    }
   ],
   "source": [
    "list(map(lambda x:x.count('a'),s))"
   ]
  },
  {
   "cell_type": "markdown",
   "id": "b5e4e406-bd12-4465-807f-789a89bb7732",
   "metadata": {},
   "source": [
    "##### 18. Using map(), lambda and count() functions create a list consisted of the number of occurrence of both letters: A and a."
   ]
  },
  {
   "cell_type": "code",
   "execution_count": 72,
   "id": "2be0312e-d9e4-420a-89a0-0cbab10cc6e2",
   "metadata": {},
   "outputs": [
    {
     "data": {
      "text/plain": [
       "[0, 2, 1, 0]"
      ]
     },
     "execution_count": 72,
     "metadata": {},
     "output_type": "execute_result"
    }
   ],
   "source": [
    "list(map(lambda x:x.count('a')+x.count('A'),s))"
   ]
  },
  {
   "cell_type": "code",
   "execution_count": 73,
   "id": "0a6ab859-e854-4ee1-a313-8ad843500d37",
   "metadata": {},
   "outputs": [
    {
     "data": {
      "text/plain": [
       "['Zeyneb', 'Anar', 'Aynur', 'Semed']"
      ]
     },
     "execution_count": 73,
     "metadata": {},
     "output_type": "execute_result"
    }
   ],
   "source": [
    "s"
   ]
  },
  {
   "cell_type": "markdown",
   "id": "52a81f6d-9872-40a6-9d6f-94c30f2d757d",
   "metadata": {},
   "source": [
    "##### 19. Using filter() function filter the list so that only negative numbers are left."
   ]
  },
  {
   "cell_type": "code",
   "execution_count": 78,
   "id": "7c70368d-463b-413f-a45b-20ca68d90cee",
   "metadata": {},
   "outputs": [
    {
     "data": {
      "text/plain": [
       "[-1, -7]"
      ]
     },
     "execution_count": 78,
     "metadata": {},
     "output_type": "execute_result"
    }
   ],
   "source": [
    "ededler = [2,-1,8,98,0,-7,9]\n",
    "list(filter(lambda x:x<0,ededler))"
   ]
  },
  {
   "cell_type": "markdown",
   "id": "0bf6491b-7d72-42c6-89ef-37b54cca42ea",
   "metadata": {},
   "source": [
    "##### 20. Using filter function, filter the even numbers so that only odd numbers are passed to the new list."
   ]
  },
  {
   "cell_type": "code",
   "execution_count": 79,
   "id": "004e6652-fc8a-4c61-878d-5b4e4076a86b",
   "metadata": {},
   "outputs": [],
   "source": [
    "new = list(filter(lambda x:x%2!=0,ededler))"
   ]
  },
  {
   "cell_type": "code",
   "execution_count": 80,
   "id": "ac6bfdce-cafd-425b-91d9-8494bfea8c1b",
   "metadata": {},
   "outputs": [
    {
     "data": {
      "text/plain": [
       "[-1, -7, 9]"
      ]
     },
     "execution_count": 80,
     "metadata": {},
     "output_type": "execute_result"
    }
   ],
   "source": [
    "new"
   ]
  },
  {
   "cell_type": "markdown",
   "id": "5bc74c14-bafa-4861-b3ef-7fb1e978f5f4",
   "metadata": {},
   "source": [
    "##### 21. Using filter() and list() functions and .lower() method filter all the vowels in a givenstring."
   ]
  },
  {
   "cell_type": "code",
   "execution_count": 82,
   "id": "eb0b43bf-165d-4c7a-b3f4-0295baae07be",
   "metadata": {},
   "outputs": [
    {
     "data": {
      "text/plain": [
       "['e', 'e', 'a', 'i', 'e', 'a']"
      ]
     },
     "execution_count": 82,
     "metadata": {},
     "output_type": "execute_result"
    }
   ],
   "source": [
    "fullname = 'Zeyneb Aliyeva'\n",
    "vowels = ['a','e','i','o','u']\n",
    "list(filter(lambda x:x in vowels,fullname.lower()))"
   ]
  },
  {
   "cell_type": "markdown",
   "id": "018de51d-b970-4f6a-b336-2f500c2eb65b",
   "metadata": {},
   "source": [
    "##### 22.This time using filter() and list() functions filter all the positive integers in the string."
   ]
  },
  {
   "cell_type": "code",
   "execution_count": 95,
   "id": "11398397-952e-4b7a-bfe4-50f7422ea3d2",
   "metadata": {},
   "outputs": [
    {
     "data": {
      "text/plain": [
       "['2', '3', '9', '5', '7', '5', '5', '7', '6']"
      ]
     },
     "execution_count": 95,
     "metadata": {},
     "output_type": "execute_result"
    }
   ],
   "source": [
    "str = '2390575576'\n",
    "list(filter(lambda x:int(x)>0,str))"
   ]
  },
  {
   "cell_type": "markdown",
   "id": "668e7403-40dd-4f11-9a5a-eb6d504ebe5b",
   "metadata": {},
   "source": [
    "##### 23. Using map() and filter() functions add 2000 to the values below 8000."
   ]
  },
  {
   "cell_type": "code",
   "execution_count": 113,
   "id": "03a7e51a-ba80-4b0b-b0b6-10c52e0378e5",
   "metadata": {},
   "outputs": [
    {
     "data": {
      "text/plain": [
       "[2200, 2089, 2000, 2256, 1991, 2800]"
      ]
     },
     "execution_count": 113,
     "metadata": {},
     "output_type": "execute_result"
    }
   ],
   "source": [
    "p=[200,989237873,89,0,256,-9,800]\n",
    "list(map(lambda x:x+2000, filter(lambda x:x<8000,p)))"
   ]
  },
  {
   "cell_type": "markdown",
   "id": "32f81b72-00f7-49bc-9f67-2a81daab8b72",
   "metadata": {},
   "source": [
    "##### 24.Write a Python program to count the even, odd numbers in a given array of integers using Lambda."
   ]
  },
  {
   "cell_type": "code",
   "execution_count": 114,
   "id": "40e97fef-8d78-4a73-8f49-f14df8faa57d",
   "metadata": {},
   "outputs": [
    {
     "data": {
      "text/plain": [
       "[4, 3]"
      ]
     },
     "execution_count": 114,
     "metadata": {},
     "output_type": "execute_result"
    }
   ],
   "source": [
    "[len(list(filter(lambda x:x%2==0,p))), len(list(filter(lambda x:x%2!=0,p)))]"
   ]
  },
  {
   "cell_type": "markdown",
   "id": "15d82a29-a7fc-43f7-833f-9a7a9eee98de",
   "metadata": {},
   "source": [
    "##### 25.Write a Python program to filter a given list whether the values in the list are having length of 6 using Lambda."
   ]
  },
  {
   "cell_type": "code",
   "execution_count": 120,
   "id": "27d804a5-ac08-4bc2-841a-fc2c6c0ec3a8",
   "metadata": {},
   "outputs": [
    {
     "data": {
      "text/plain": [
       "['Zeyneb', 'Anar', 'Aynur', 'Semed', 'Zulfiyye']"
      ]
     },
     "execution_count": 120,
     "metadata": {},
     "output_type": "execute_result"
    }
   ],
   "source": [
    "s"
   ]
  },
  {
   "cell_type": "code",
   "execution_count": 122,
   "id": "1096c6ca-d3ee-41a3-b2a0-08c245ee3114",
   "metadata": {},
   "outputs": [
    {
     "data": {
      "text/plain": [
       "['Zeyneb']"
      ]
     },
     "execution_count": 122,
     "metadata": {},
     "output_type": "execute_result"
    }
   ],
   "source": [
    "list(filter(lambda x:len(x)==6, s))"
   ]
  },
  {
   "cell_type": "markdown",
   "id": "9a47f3ec-56b4-40e8-a7f5-12d7a23e4bbc",
   "metadata": {},
   "source": [
    "##### 26.Write a Python program to find numbers divisible by nineteen or thirteen from a list of numbers using Lambda."
   ]
  },
  {
   "cell_type": "code",
   "execution_count": 130,
   "id": "b55e25fb-a5a2-4182-8778-a45bbe764e05",
   "metadata": {},
   "outputs": [
    {
     "data": {
      "text/plain": [
       "[38, 39]"
      ]
     },
     "execution_count": 130,
     "metadata": {},
     "output_type": "execute_result"
    }
   ],
   "source": [
    "list(filter(lambda x:x%19==0 or x%13==0,l2))"
   ]
  },
  {
   "cell_type": "code",
   "execution_count": 129,
   "id": "7af36fe2-15e2-459e-9dd0-55cc858e793e",
   "metadata": {},
   "outputs": [
    {
     "data": {
      "text/plain": [
       "[7, 8, 9, 10, 38, 39]"
      ]
     },
     "execution_count": 129,
     "metadata": {},
     "output_type": "execute_result"
    }
   ],
   "source": [
    "l2"
   ]
  },
  {
   "cell_type": "markdown",
   "id": "8918df42-355c-4cfa-bb62-a0d8a5389dd9",
   "metadata": {},
   "source": [
    "##### 27. Using zip() function and list() function, create a merged list of tuples from the two lists given."
   ]
  },
  {
   "cell_type": "code",
   "execution_count": 132,
   "id": "ea2506c1-9143-440b-94ee-16040584727a",
   "metadata": {},
   "outputs": [
    {
     "data": {
      "text/plain": [
       "[(1, 6), (2, 7), (3, 8), (4, 9), (5, 10)]"
      ]
     },
     "execution_count": 132,
     "metadata": {},
     "output_type": "execute_result"
    }
   ],
   "source": [
    "a = [1,2,3,4,5]\n",
    "b= [6,7,8,9,10]\n",
    "list(zip(a,b))"
   ]
  },
  {
   "cell_type": "markdown",
   "id": "ab8d18da-aeae-4c86-a4c4-ce3344c2e620",
   "metadata": {},
   "source": [
    "##### 28. First create a range from 1 to 8. Then using zip, merge the given list and the range together to create a new list of tuples."
   ]
  },
  {
   "cell_type": "code",
   "execution_count": 141,
   "id": "b63e9287-e919-4024-a459-df92ac3f0e84",
   "metadata": {},
   "outputs": [],
   "source": [
    "numbers = range(1,9)\n",
    "adlar = s+['Emin','Saleh','Hesen']"
   ]
  },
  {
   "cell_type": "code",
   "execution_count": 142,
   "id": "090bed14-4e17-458a-b4dc-f596c734c23c",
   "metadata": {},
   "outputs": [
    {
     "data": {
      "text/plain": [
       "['Zeyneb', 'Anar', 'Aynur', 'Semed', 'Zulfiyye', 'Emin', 'Saleh', 'Hesen']"
      ]
     },
     "execution_count": 142,
     "metadata": {},
     "output_type": "execute_result"
    }
   ],
   "source": [
    "adlar"
   ]
  },
  {
   "cell_type": "code",
   "execution_count": 143,
   "id": "90594140-9421-431f-ba0c-e79b9e114180",
   "metadata": {},
   "outputs": [
    {
     "data": {
      "text/plain": [
       "[(1, 'Zeyneb'),\n",
       " (2, 'Anar'),\n",
       " (3, 'Aynur'),\n",
       " (4, 'Semed'),\n",
       " (5, 'Zulfiyye'),\n",
       " (6, 'Emin'),\n",
       " (7, 'Saleh'),\n",
       " (8, 'Hesen')]"
      ]
     },
     "execution_count": 143,
     "metadata": {},
     "output_type": "execute_result"
    }
   ],
   "source": [
    "list(zip(numbers,adlar))"
   ]
  },
  {
   "cell_type": "markdown",
   "id": "9362916a-141c-44b1-bdb1-cd581100dd5d",
   "metadata": {},
   "source": [
    "##### 29. Using zip and dict functions create a dictionary which has its key-value pairs comingfrom lst1 and lst2."
   ]
  },
  {
   "cell_type": "code",
   "execution_count": 157,
   "id": "78defc90-a388-4c0a-ab31-760580b8c473",
   "metadata": {},
   "outputs": [
    {
     "data": {
      "text/plain": [
       "{1: 'alma', 2: 'armud', 3: 'banan', 5: 'heyva', 4: 'ananas'}"
      ]
     },
     "execution_count": 157,
     "metadata": {},
     "output_type": "execute_result"
    }
   ],
   "source": [
    "lst1 = [1,2,3,5,4]\n",
    "lst2 = ['alma','armud','banan','heyva','ananas']\n",
    "dict(zip(lst1,lst2))"
   ]
  },
  {
   "cell_type": "markdown",
   "id": "b74c29f6-4306-471e-beac-00f992d66d07",
   "metadata": {},
   "source": [
    "##### 30. Using zip, list and sorted functions create a sorted list of tuples from lst1 and lst2."
   ]
  },
  {
   "cell_type": "code",
   "execution_count": 160,
   "id": "b0637f09-7b33-4d5c-a6ef-d3944b4c80c7",
   "metadata": {},
   "outputs": [
    {
     "data": {
      "text/plain": [
       "[(1, 'alma'), (2, 'armud'), (3, 'banan'), (4, 'ananas'), (5, 'heyva')]"
      ]
     },
     "execution_count": 160,
     "metadata": {},
     "output_type": "execute_result"
    }
   ],
   "source": [
    "sorted(list(zip(lst1,lst2)))"
   ]
  },
  {
   "cell_type": "code",
   "execution_count": null,
   "id": "93f00bf1-c17b-4e74-92ae-6d73b8d8a3b2",
   "metadata": {},
   "outputs": [],
   "source": []
  }
 ],
 "metadata": {
  "kernelspec": {
   "display_name": "Python 3 (ipykernel)",
   "language": "python",
   "name": "python3"
  },
  "language_info": {
   "codemirror_mode": {
    "name": "ipython",
    "version": 3
   },
   "file_extension": ".py",
   "mimetype": "text/x-python",
   "name": "python",
   "nbconvert_exporter": "python",
   "pygments_lexer": "ipython3",
   "version": "3.11.7"
  }
 },
 "nbformat": 4,
 "nbformat_minor": 5
}

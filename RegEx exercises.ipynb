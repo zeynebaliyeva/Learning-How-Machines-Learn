{
 "cells": [
  {
   "cell_type": "code",
   "execution_count": 3,
   "id": "7d831b91-6fbf-493f-8e5c-21fb797b828b",
   "metadata": {},
   "outputs": [],
   "source": [
    "import re"
   ]
  },
  {
   "cell_type": "markdown",
   "id": "1c12d185-7064-4d91-9ae9-5ed4e9b60129",
   "metadata": {},
   "source": [
    "##### 1. Create a regex that can select names and ages from the given list and create a new dictionary with name as a key and age as a value: \n",
    "- Nameage = \"\\ Janice is 22 and Theon is 33 \\ Gabriel is 44 and Joey is 21\\ \""
   ]
  },
  {
   "cell_type": "code",
   "execution_count": 4,
   "id": "42f3414c-e885-465b-825b-c5a05ef38e64",
   "metadata": {},
   "outputs": [],
   "source": [
    "nameage = \"Janice is 22 and Theon is 33 Gabriel is 44 and Joey is 21\""
   ]
  },
  {
   "cell_type": "code",
   "execution_count": 7,
   "id": "2446a5d2-66a9-45ff-92b9-4f876a991cb3",
   "metadata": {},
   "outputs": [],
   "source": [
    "names=re.findall(r'[A-Z][a-z]+',nameage)"
   ]
  },
  {
   "cell_type": "code",
   "execution_count": 26,
   "id": "b8fbae94-70b4-4c89-b63b-c2c70d3fc4b6",
   "metadata": {},
   "outputs": [
    {
     "data": {
      "text/plain": [
       "{'Janice': '22', 'Theon': '33', 'Gabriel': '44', 'Joey': '21'}"
      ]
     },
     "execution_count": 26,
     "metadata": {},
     "output_type": "execute_result"
    }
   ],
   "source": [
    "dict(re.findall(r'([A-z]+)\\sis\\s(\\d{1,3})',nameage))"
   ]
  },
  {
   "cell_type": "markdown",
   "id": "de3a2174-6770-426c-991d-baa97bb8458d",
   "metadata": {},
   "source": [
    "##### Create a regex for email verification. All E-mail addresses should include:\n",
    "- **a)** 3 to 10 lowercase or uppercase letters, numbers\n",
    "- **b)** An `@` symbol\n",
    "- **c)** 2 to 10 lowercase and uppercase letters, numbers\n",
    "- **d)** A `.` (dot)\n",
    "- **e)** 2 to 4 lowercase and uppercase letters\n",
    "- **Example: meow@gmail.com is a right mail but,\n",
    "Hello.com, MrMu@.com are not.**"
   ]
  },
  {
   "cell_type": "code",
   "execution_count": 39,
   "id": "74b3ce44-04eb-492a-815e-2b65a63bcfe5",
   "metadata": {},
   "outputs": [
    {
     "data": {
      "text/plain": [
       "['moeow@gmail.com', 'zeyneb@alyvaa.com']"
      ]
     },
     "execution_count": 39,
     "metadata": {},
     "output_type": "execute_result"
    }
   ],
   "source": [
    "re.findall(r'[A-z0-9]{3,10}@[A-z0-9]{2,10}\\.[A-z]{2,4}','moeow@gmail.com Hello.com,MrMu@.com zeyneb@alyvaa.com')"
   ]
  },
  {
   "cell_type": "markdown",
   "id": "740e2ce4-5f3b-4383-9de0-fd310c64d193",
   "metadata": {},
   "source": [
    "##### 3. Create a regex for number verification. The order of number’s structure should be as following:\n",
    "- **1.** (\n",
    "- **2.** 3 numbers\n",
    "- **3.** )\n",
    "- **4.** Space\n",
    "- **5.** numbers\n",
    "- **6.** -\n",
    "- **7.** numbers\n",
    "- **Example: (257) 563-7401, (111) 222-3333 are right numbers (1) 19-39, +994 012-13-32 are not right numbers**"
   ]
  },
  {
   "cell_type": "code",
   "execution_count": 120,
   "id": "3fff73e1-6588-4133-90ac-ab4f3194210e",
   "metadata": {},
   "outputs": [
    {
     "data": {
      "text/plain": [
       "['(111) 222-3333']"
      ]
     },
     "execution_count": 120,
     "metadata": {},
     "output_type": "execute_result"
    }
   ],
   "source": [
    "re.findall(r'(\\(\\d{3}\\)\\s\\d+-\\d+)\\s', '(257) 563-74-01 (111) 222-3333 (1) 19-39 +994 012-13-32')"
   ]
  }
 ],
 "metadata": {
  "kernelspec": {
   "display_name": "Python 3 (ipykernel)",
   "language": "python",
   "name": "python3"
  },
  "language_info": {
   "codemirror_mode": {
    "name": "ipython",
    "version": 3
   },
   "file_extension": ".py",
   "mimetype": "text/x-python",
   "name": "python",
   "nbconvert_exporter": "python",
   "pygments_lexer": "ipython3",
   "version": "3.11.7"
  }
 },
 "nbformat": 4,
 "nbformat_minor": 5
}
